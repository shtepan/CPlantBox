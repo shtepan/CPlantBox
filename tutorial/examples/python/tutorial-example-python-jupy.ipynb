{
 "cells": [
  {
   "cell_type": "code",
   "execution_count": 18,
   "metadata": {},
   "outputs": [
    {
     "data": {
      "text/plain": [
       "((vtkRenderingOpenGL2Python.vtkOpenGLActor)0x7fc8b79d8590,\n",
       " (vtkRenderingAnnotationPython.vtkScalarBarActor)0x7fc8b79d84b0)"
      ]
     },
     "execution_count": 18,
     "metadata": {},
     "output_type": "execute_result"
    }
   ],
   "source": [
    "# %load example1a_small\n",
    "\"\"\"small example\"\"\"\n",
    "import sys\n",
    "sys.path.append(\"../../..\")\n",
    "import plantbox as pb\n",
    "import vtk_plot as vp\n",
    "\n",
    "rs = pb.RootSystem()\n",
    "\n",
    "# Open plant and root parameter from a file\n",
    "path = \"../../../modelparameter/rootsystem/RootLab/\" # POZOR, vnoril jsem si slozku RootLab\n",
    "name = \"LabMod_Bush\"\n",
    "rs.readParameters(path + name + \".xml\")\n",
    "\n",
    "# Initializeo\n",
    "rs.initialize()\n",
    "\n",
    "# Simulate\n",
    "rs.simulate(20, True)\n",
    "vp.plot_roots(rs, \"creationTime\")"
   ]
  },
  {
   "cell_type": "code",
   "execution_count": 53,
   "metadata": {
    "scrolled": true
   },
   "outputs": [
    {
     "name": "stdout",
     "output_type": "stream",
     "text": [
      "18.88492884968773\n",
      "-26.333050969978665\n"
     ]
    },
    {
     "ename": "AttributeError",
     "evalue": "module 'vtk_plot' has no attribute 'ren'",
     "output_type": "error",
     "traceback": [
      "\u001b[0;31m---------------------------------------------------------------------------\u001b[0m",
      "\u001b[0;31mAttributeError\u001b[0m                            Traceback (most recent call last)",
      "\u001b[0;32m<ipython-input-53-986d7caf7c88>\u001b[0m in \u001b[0;36m<module>\u001b[0;34m\u001b[0m\n\u001b[1;32m     57\u001b[0m \u001b[0;31m#cubeAxesActor.SetCamera(vp.ren.GetActiveCamera())\u001b[0m\u001b[0;34m\u001b[0m\u001b[0;34m\u001b[0m\u001b[0;34m\u001b[0m\u001b[0m\n\u001b[1;32m     58\u001b[0m \u001b[0;31m#vp.ren.ResetCamera()\u001b[0m\u001b[0;34m\u001b[0m\u001b[0;34m\u001b[0m\u001b[0;34m\u001b[0m\u001b[0m\n\u001b[0;32m---> 59\u001b[0;31m \u001b[0mvp\u001b[0m\u001b[0;34m.\u001b[0m\u001b[0mren\u001b[0m\u001b[0;34m.\u001b[0m\u001b[0mAddActor\u001b[0m\u001b[0;34m(\u001b[0m\u001b[0mCubeAxesActor\u001b[0m\u001b[0;34m)\u001b[0m\u001b[0;34m;\u001b[0m\u001b[0;34m\u001b[0m\u001b[0;34m\u001b[0m\u001b[0m\n\u001b[0m\u001b[1;32m     60\u001b[0m \u001b[0mvp\u001b[0m\u001b[0;34m.\u001b[0m\u001b[0mplot_roots\u001b[0m\u001b[0;34m(\u001b[0m\u001b[0mrs\u001b[0m\u001b[0;34m,\u001b[0m \u001b[0;34m\"creationTime\"\u001b[0m\u001b[0;34m)\u001b[0m\u001b[0;34m\u001b[0m\u001b[0;34m\u001b[0m\u001b[0m\n\u001b[1;32m     61\u001b[0m \u001b[0;34m\u001b[0m\u001b[0m\n",
      "\u001b[0;31mAttributeError\u001b[0m: module 'vtk_plot' has no attribute 'ren'"
     ]
    }
   ],
   "source": [
    "# Export final result (as vtp)\n",
    "#rs.write(\"resultsLAB/RLab201012_Heliantus_Pagès_2013.vtp\")\n",
    "\n",
    "# Export final result as rsml \n",
    "# nefunguje - vt.write_rsml(\"resultsLAB/Triticum_aestivum_LAB201006.rsml\", rs, \"meta\")\n",
    "# FUNGUJE - rs.write(\"resultsLAB/test.rsml\")\n",
    "\n",
    "# Plot, using vtk\n",
    "#vp.plot_roots(rs, \"creationTime\")\n",
    "# cubeAxesActor = vtk.vtkCubeAxesActor()\n",
    "# cubeAxesActor.SetBounds(rs.GetOutput().GetBounds())\n",
    "# cubeAxesActor.SetCamera(renderer.GetActiveCamera())\n",
    "\n",
    "#help(rs.getNodes())\n",
    "#dir(rs)\n",
    "#print(rs.getNodes())\n",
    "Nodes = rs.getNodes() # \n",
    "#print(Nodes[9].y)\n",
    "\n",
    "# ve vtk_plpot jako BOUNDS\n",
    "nNodes=len(Nodes)\n",
    "\n",
    "xx=[0] * nNodes\n",
    "yy=[0] * nNodes\n",
    "zz=[0] * nNodes\n",
    "for i in range(0, nNodes):\n",
    "    xx[i]=Nodes[i].x\n",
    "    yy[i]=Nodes[i].y\n",
    "    zz[i]=Nodes[i].z\n",
    "\n",
    "xmax=max(xx)\n",
    "ymax=max(yy)\n",
    "zmax=max(zz)\n",
    "print(xmax)\n",
    "\n",
    "xmin=min(xx)\n",
    "ymin=min(yy)\n",
    "zmin=min(zz)\n",
    "print(ymin)\n",
    "\n",
    "xc=(xmax+xmin)/2\n",
    "yc=(ymax+ymin)/2\n",
    "zc=(zmax+zmin)/2\n",
    "\n",
    "dx=(xmax-xc)*1.2\n",
    "xmax=xc+dx\n",
    "xmin=xc-dx\n",
    "dy=(ymax-yc)*1.2\n",
    "ymax=yc+dy\n",
    "ymin=yc-dy\n",
    "dz=(zmax-zc)*1.2\n",
    "zmax=zc+dz\n",
    "zmin=zc-dz\n",
    "\n",
    "\n",
    "cubeAxesActor = vp.vtk.vtkCubeAxesActor()\n",
    "cubeAxesActor.SetBounds(xmin,xmax,ymin,ymax,zmin,zmax)\n",
    "#cubeAxesActor.SetCamera(vp.ren.GetActiveCamera())\n",
    "#vp.ren.ResetCamera()\n",
    "vp.ren.AddActor(CubeAxesActor);\n",
    "vp.plot_roots(rs, \"creationTime\")\n",
    "\n",
    "\n",
    "#limits = 'no' # dat sem nalezena maxima z Nodes[] ..."
   ]
  },
  {
   "cell_type": "code",
   "execution_count": 10,
   "metadata": {},
   "outputs": [
    {
     "name": "stdout",
     "output_type": "stream",
     "text": [
      "run 1\n",
      "run 2\n",
      "run 3\n",
      "run 4\n",
      "run 5\n",
      "run 6\n",
      "run 7\n",
      "run 8\n",
      "run 9\n",
      "run 10\n",
      "run 11\n",
      "run 12\n",
      "run 13\n",
      "run 14\n",
      "run 15\n",
      "run 16\n",
      "run 17\n",
      "run 18\n",
      "run 19\n",
      "run 20\n",
      "run 21\n",
      "run 22\n",
      "run 23\n",
      "run 24\n",
      "run 25\n"
     ]
    },
    {
     "data": {
      "image/png": "[encoded data removed]",
      "text/plain": [
       "<Figure size 720x576 with 2 Axes>"
      ]
     },
     "metadata": {
      "needs_background": "light"
     },
     "output_type": "display_data"
    }
   ],
   "source": [
    "# %load example2f_sensitivity.py\n",
    "\"\"\"sensitivity analysis: impact of insertion angle on root tip distribution\"\"\"\n",
    "import sys\n",
    "sys.path.append(\"../../..\")\n",
    "import plantbox as pb\n",
    "\n",
    "import math\n",
    "from multiprocessing import Pool\n",
    "import numpy as np\n",
    "import matplotlib.pyplot as plt\n",
    "\n",
    "\n",
    "# sets all standard deviation to a percantage, i.e. value*s\n",
    "def set_all_sd(rs, s):\n",
    "    for p in rs.getRootRandomParameter():\n",
    "        p.lmaxs = p.lmaxs * s\n",
    "        p.lbs = p.lb * s\n",
    "        p.las = p.la * s\n",
    "        p.lns = p.ln * s\n",
    "        p.rs = p.r * s\n",
    "        p.a_s = p.a * s\n",
    "\n",
    "\n",
    "# Parameters\n",
    "path = \"../../../modelparameter/rootsystem/\"\n",
    "name = \"Zea_mays_1_Leitner_2010\"\n",
    "simtime = 25\n",
    "N = 25  # resolution of paramter\n",
    "runs = 25  # iterations\n",
    "theta0_ = np.linspace(0, math.pi / 2, N)\n",
    "\n",
    "\n",
    "# One simulation\n",
    "def simulate(i):\n",
    "    rs = pb.RootSystem()\n",
    "    rs.readParameters(path + name + \".xml\")\n",
    "    set_all_sd(rs, 0.)  # set all sd to zero\n",
    "    p1 = rs.getRootRandomParameter(1)  # tap and basal root type\n",
    "    # 1. vary parameter\n",
    "    p1.theta = theta0_[i]\n",
    "    # 2. simulate\n",
    "    rs.initializeLB(1, 1, False)\n",
    "    rs.simulate(simtime, False)\n",
    "    # 3. calculate target\n",
    "    depth = 0.  # mean depth\n",
    "    rad_dist = 0.  # mean raidal distance\n",
    "    roots = rs.getPolylines()\n",
    "    for r in roots:\n",
    "        depth += r[-1].z\n",
    "        rad_dist += math.hypot(r[-1].x, r[-1].y)\n",
    "    depth /= len(roots)\n",
    "    rad_dist /= len(roots)\n",
    "    return depth, rad_dist\n",
    "\n",
    "\n",
    "depth_ = np.zeros(N)\n",
    "rad_dist_ = np.zeros(N)\n",
    "\n",
    "for r in range(0, runs):\n",
    "\n",
    "    print(\"run\", r + 1)\n",
    "\n",
    "    # Parallel execution\n",
    "    param = []  # param is a list of tuples\n",
    "    for i in range(0, N):\n",
    "        param.append((i,))\n",
    "    pool = Pool()\n",
    "    output = pool.starmap(simulate, param)\n",
    "    pool.close()\n",
    "\n",
    "    # Copy results\n",
    "    for i, o in enumerate(output):\n",
    "        depth_[i] += (o[0] / runs)\n",
    "        rad_dist_[i] += (o[1] / runs)\n",
    "\n",
    "# Figure\n",
    "fig, axes = plt.subplots(nrows = 1, ncols = 2, figsize = (10, 8))\n",
    "axes[0].set_xlabel('Insertion angle theta (-)')\n",
    "axes[1].set_xlabel('Insertion angle theta (-)')\n",
    "axes[0].set_ylabel('Mean tip depth (cm)')\n",
    "axes[1].set_ylabel('Mean tip radial distance (cm)')\n",
    "axes[0].plot(theta0_, depth_)\n",
    "axes[1].plot(theta0_, rad_dist_)\n",
    "fig.subplots_adjust()\n",
    "plt.savefig(\"results/example_2f.png\")\n",
    "plt.show()\n"
   ]
  },
  {
   "cell_type": "markdown",
   "metadata": {},
   "source": [
    "#### Oblibene IPython magics"
   ]
  },
  {
   "cell_type": "code",
   "execution_count": null,
   "metadata": {},
   "outputs": [],
   "source": [
    "%%writefile\n",
    "%pycat\n",
    "%load"
   ]
  },
  {
   "cell_type": "code",
   "execution_count": null,
   "metadata": {},
   "outputs": [],
   "source": [
    "%% magicwords help"
   ]
  },
  {
   "cell_type": "code",
   "execution_count": null,
   "metadata": {},
   "outputs": [],
   "source": [
    "%pycat example1_LAB200811_multiple.py"
   ]
  },
  {
   "cell_type": "code",
   "execution_count": null,
   "metadata": {},
   "outputs": [],
   "source": [
    "import example2a_initializeparams"
   ]
  },
  {
   "cell_type": "code",
   "execution_count": null,
   "metadata": {},
   "outputs": [],
   "source": [
    "import example2c_lateralspacing"
   ]
  },
  {
   "cell_type": "code",
   "execution_count": null,
   "metadata": {},
   "outputs": [],
   "source": [
    "import example2d_length"
   ]
  },
  {
   "cell_type": "code",
   "execution_count": null,
   "metadata": {},
   "outputs": [],
   "source": [
    "import example2e_roottips"
   ]
  },
  {
   "cell_type": "markdown",
   "metadata": {},
   "source": [
    "## WIP"
   ]
  },
  {
   "cell_type": "code",
   "execution_count": 2,
   "metadata": {},
   "outputs": [
    {
     "data": {
      "text/plain": [
       "((vtkRenderingOpenGL2Python.vtkOpenGLActor)0x7efc77c28d70,\n",
       " (vtkRenderingAnnotationPython.vtkScalarBarActor)0x7efc77c28fa0)"
      ]
     },
     "execution_count": 2,
     "metadata": {},
     "output_type": "execute_result"
    }
   ],
   "source": [
    "#%%writefile example1_LAB201006_multiple_hydrotropism_Nov21.py\n",
    "\"\"\"hydrotropism in a middle of a two plants\"\"\"\n",
    "import sys; sys.path.append(\"../../..\")\n",
    "import plantbox as pb\n",
    "import vtk_plot as vp\n",
    "\n",
    "rs = pb.RootSystem()\n",
    "path = \"../../../modelparameter/rootsystem/RootLab/\"\n",
    "name = [\"LabMod_Bush\", \"../Juncus_squarrosus_Clausnitzer_1994\", \"LabMod_Bush\", \"LabMod_Bush\"]\n",
    "\n",
    "# Static soil property in a thin layer\n",
    "maxS = 5  # maximal\n",
    "minS = 0.5  # minimal\n",
    "slope = 10  # linear gradient between min and max (cm), half length of linear interpolation between fmax and fmin\n",
    "box = pb.SDF_PlantBox(200, 200, 30)  # cm\n",
    "layer = pb.SDF_RotateTranslate(box, pb.Vector3d(0, 0, 10))\n",
    "box2 = pb.SDF_PlantBox(200, 200, 60)\n",
    "layer2 = pb.SDF_RotateTranslate(box2, pb.Vector3d(0, 0, -150))\n",
    "soil_prop = pb.SoilLookUpSDF(layer, maxS, minS, slope)\n",
    "\n",
    "C = 1   # number of columns\n",
    "R = 1   # and rows\n",
    "dist = 35  # distance between the root systems [cm]\n",
    "\n",
    "# Initializes C*R root systems\n",
    "allRS = []\n",
    "for i in range(0, C):\n",
    "    for j in range(0, R):\n",
    "        rs = pb.RootSystem()\n",
    "        rs.readParameters(path + name[i] + \".xml\")\n",
    "        # Manually set tropism to hydrotropism for the first six root types\n",
    "        sigma = [0.05, 0.3, 0.5, 0.6]\n",
    "        tropN = [0.7, 0.8, 1.0, 1.0] # *2 strength of tropism\n",
    "        #RootLifeTime = [50, 40, 40, 30]\n",
    "        #for p in rs.getRootRandomParameter():\n",
    "            #p.dx = 0.5  # adjust resolution\n",
    "            #p.tropismT = pb.TropismType.hydro\n",
    "            #p.tropismN = tropN[p.subType - 1]  # strength of tropism\n",
    "            #p.tropismS = sigma[p.subType - 1]\n",
    "            #p.rlt = RootLifeTime[i]\n",
    "            \n",
    "        rs.getRootSystemParameter().seedPos = pb.Vector3d(dist * i - (dist/2), dist * j, -4.)  # cm\n",
    "        rs.setSoil(soil_prop) # Set the soil properties before calling initialize\n",
    "        rs.initialize(False)  # verbose = False\n",
    "        allRS.append(rs)\n",
    "        \n",
    "# Simulate dynamically\n",
    "simtime = 90  # e.g. 30 or 60 days\n",
    "dt = 1\n",
    "N = round(simtime / dt)\n",
    "for _ in range(0, N):\n",
    "    for rs in allRS:\n",
    "        ## in a dynamic soil setting you would need to update the soil properties (soil_prop)\n",
    "        rs.simulate(dt, True)\n",
    "    \n",
    "# Export results as single vtp files (as polylines)\n",
    "ana = pb.SegmentAnalyser()  # see example 3b\n",
    "for i, rs in enumerate(allRS):\n",
    "      vtpname = \"resultsLAB/RLab_201121_Bush\" + str(i) + \".vtp\"\n",
    "      rs.write(vtpname)\n",
    "      ana.addSegments(rs)  # collect all\n",
    "    \n",
    "vp.plot_roots(ana, 'subType', \"Multiple Hydro\", True) # misto creationTime muze byt napr. subType ...\n",
    "\n"
   ]
  },
  {
   "cell_type": "code",
   "execution_count": 7,
   "metadata": {},
   "outputs": [
    {
     "data": {
      "text/plain": [
       "((vtkRenderingOpenGL2Python.vtkOpenGLActor)0x7fc18049ebb0,\n",
       " (vtkRenderingAnnotationPython.vtkScalarBarActor)0x7fc18049ec20)"
      ]
     },
     "execution_count": 7,
     "metadata": {},
     "output_type": "execute_result"
    }
   ],
   "source": [
    "# %load example1_LAB200903_multiple_hydrotropism_centerWORKS.py\n"
   ]
  },
  {
   "cell_type": "code",
   "execution_count": 8,
   "metadata": {},
   "outputs": [
    {
     "name": "stdout",
     "output_type": "stream",
     "text": [
      "[0.5, 1.0, 2.0, 0.5, 1.0, 2.0]\n"
     ]
    }
   ],
   "source": [
    "N = [0.5, 1., 2.] * 2\n",
    "print(N)"
   ]
  },
  {
   "cell_type": "markdown",
   "metadata": {},
   "source": [
    "# odkladiste"
   ]
  },
  {
   "cell_type": "code",
   "execution_count": null,
   "metadata": {
    "scrolled": true
   },
   "outputs": [],
   "source": [
    "        \n",
    "# Simulate dynamically\n",
    "simtime = 25  # e.g. 30 or 60 days\n",
    "dt = 1\n",
    "N = round(simtime / dt)\n",
    "for _ in range(0, N):\n",
    "    for rs in allRS:\n",
    "        ## in a dynamic soil setting you would need to update the soil properties (soil_prop)\n",
    "        rs.simulate(dt, True)\n",
    "\n",
    "# Simulate\n",
    "for rs in allRS:\n",
    "    rs.simulate(simtime, True)  # verbose = False\n",
    "\n",
    "\n",
    "# Export results as single vtp files (as polylines)\n",
    "ana = pb.SegmentAnalyser()  # see example 3b\n",
    "for i, rs in enumerate(allRS):\n",
    "      vtpname = \"results/example_LAB_multiple_hydrotrop\" + str(i) + \".vtp\"\n",
    "#      rs.write(vtpname)\n",
    "      ana.addSegments(rs)  # collect all\n",
    "\n",
    "# Plot, using vtk\n",
    "#vp.plot_roots(rs, 'subType', 'oblique', True)\n",
    "vp.plot_roots(ana, 'subType', \"Multiple Hydro\", True)\n",
    "\n",
    "# testujeme kod\n",
    "# print(pb.SoilLookUpSDF)"
   ]
  },
  {
   "cell_type": "code",
   "execution_count": null,
   "metadata": {},
   "outputs": [],
   "source": [
    "# %load example4a_hydrotropism.py\n",
    "\"\"\"hydrotropism in a thin layer\"\"\"\n",
    "import sys; sys.path.append(\"../../..\")\n",
    "import plantbox as pb\n",
    "import vtk_plot as vp\n",
    "\n",
    "rs = pb.RootSystem()\n",
    "path = \"../../../modelparameter/rootsystem/\"\n",
    "name = \"Anagallis_femina_Leitner_2010\"\n",
    "rs.readParameters(path + name + \".xml\")\n",
    "\n",
    "# Manually set tropism to hydrotropism for the first ten root types\n",
    "sigma = [0.4, 1., 1., 1., 1. ] * 2\n",
    "for p in rs.getRootRandomParameter():\n",
    "        p.dx = 0.25  # adjust resolution\n",
    "        p.tropismT = pb.TropismType.hydro\n",
    "        p.tropismN = 2  # strength of tropism\n",
    "        p.tropismS = sigma[p.subType - 1]\n",
    "\n",
    "# Static soil property in a thin layer\n",
    "maxS = 0.7  # maximal\n",
    "minS = 0.1  # minimal\n",
    "slope = 5  # linear gradient between min and max (cm)\n",
    "box = pb.SDF_PlantBox(30, 30, 2)  # cm\n",
    "layer = pb.SDF_RotateTranslate(box, pb.Vector3d(0, 0, -16))\n",
    "soil_prop = pb.SoilLookUpSDF(layer, maxS, minS, slope)\n",
    "\n",
    "# Set the soil properties before calling initialize\n",
    "rs.setSoil(soil_prop)\n",
    "\n",
    "# Initialize\n",
    "rs.initialize()\n",
    "\n",
    "# Simulate\n",
    "simtime = 100  # e.g. 30 or 60 days\n",
    "dt = 1\n",
    "N = round(simtime / dt)\n",
    "for _ in range(0, N):\n",
    "    # in a dynamic soil setting you would need to update the soil properties (soil_prop)\n",
    "    rs.simulate(dt)\n",
    "\n",
    "# Plot, using vtk\n",
    "vp.plot_roots(rs, \"type\", 'oblique', True)\n"
   ]
  },
  {
   "cell_type": "code",
   "execution_count": 10,
   "metadata": {},
   "outputs": [],
   "source": [
    "import time\n",
    "time.sleep(3)"
   ]
  },
  {
   "cell_type": "code",
   "execution_count": 12,
   "metadata": {},
   "outputs": [
    {
     "data": {
      "text/plain": [
       "'Hello, Stepan!'"
      ]
     },
     "execution_count": 12,
     "metadata": {},
     "output_type": "execute_result"
    }
   ],
   "source": [
    "def say_hello(recipient):\n",
    "    return 'Hello, {}!'.format(recipient)\n",
    "\n",
    "say_hello('Stepan')"
   ]
  },
  {
   "cell_type": "code",
   "execution_count": 14,
   "metadata": {},
   "outputs": [
    {
     "name": "stdout",
     "output_type": "stream",
     "text": [
      "25\n"
     ]
    }
   ],
   "source": [
    "import numpy as np\n",
    "def square(x):\n",
    "    return x * x\n",
    "\n",
    "print(square(5))"
   ]
  },
  {
   "cell_type": "code",
   "execution_count": null,
   "metadata": {},
   "outputs": [],
   "source": [
    "x = np.random.randint(1, 10)\n",
    "y = square(x)\n",
    "z = 15\n",
    "print('%d squared is %d a muj test %' % (x, y, z))"
   ]
  },
  {
   "cell_type": "code",
   "execution_count": null,
   "metadata": {},
   "outputs": [],
   "source": [
    "y = 10\n",
    "print('Is %d squared %d?' % (x, y))"
   ]
  },
  {
   "cell_type": "code",
   "execution_count": 15,
   "metadata": {},
   "outputs": [
    {
     "name": "stdout",
     "output_type": "stream",
     "text": [
      "Hello, Paul. Good morning!\n"
     ]
    }
   ],
   "source": [
    "def greet(name):\n",
    "    \"\"\"\n",
    "    This function greets to\n",
    "    the person passed in as\n",
    "    a parameter\n",
    "    \"\"\"\n",
    "    print(\"Hello, \" + name + \". Good morning!\")\n",
    "\n",
    "greet('Paul')"
   ]
  },
  {
   "cell_type": "code",
   "execution_count": null,
   "metadata": {},
   "outputs": [],
   "source": [
    "print(def.__doc__)\n",
    "    "
   ]
  }
 ],
 "metadata": {
  "kernelspec": {
   "display_name": "Python 3",
   "language": "python",
   "name": "python3"
  },
  "language_info": {
   "codemirror_mode": {
    "name": "ipython",
    "version": 3
   },
   "file_extension": ".py",
   "mimetype": "text/x-python",
   "name": "python",
   "nbconvert_exporter": "python",
   "pygments_lexer": "ipython3",
   "version": "3.7.7"
  }
 },
 "nbformat": 4,
 "nbformat_minor": 4
}
