{
 "cells": [
  {
   "cell_type": "code",
   "execution_count": 18,
   "metadata": {},
   "outputs": [
    {
     "data": {
      "text/plain": [
       "((vtkRenderingOpenGL2Python.vtkOpenGLActor)0x7fc8b79d8590,\n",
       " (vtkRenderingAnnotationPython.vtkScalarBarActor)0x7fc8b79d84b0)"
      ]
     },
     "execution_count": 18,
     "metadata": {},
     "output_type": "execute_result"
    }
   ],
   "source": [
    "# %load example1a_small\n",
    "\"\"\"small example\"\"\"\n",
    "import sys; sys.path.append(\"../../..\"); sys.path.append(\"../../../src/python_modules\")\n",
    "import plantbox as pb\n",
    "import vtk_plot as vp\n",
    "\n",
    "rs = pb.RootSystem()\n",
    "\n",
    "# Open plant and root parameter from a file\n",
    "path = \"../../../modelparameter/rootsystem/RootLab/\" # POZOR, vnoril jsem si slozku RootLab\n",
    "name = \"LabMod_Bush\"\n",
    "rs.readParameters(path + name + \".xml\")\n",
    "\n",
    "# Initializeo\n",
    "rs.initialize()\n",
    "\n",
    "# Simulate\n",
    "rs.simulate(20, True)\n",
    "vp.plot_roots(rs, \"creationTime\")"
   ]
  },
  {
   "cell_type": "code",
   "execution_count": 53,
   "metadata": {
    "scrolled": true
   },
   "outputs": [
    {
     "name": "stdout",
     "output_type": "stream",
     "text": [
      "18.88492884968773\n",
      "-26.333050969978665\n"
     ]
    },
    {
     "ename": "AttributeError",
     "evalue": "module 'vtk_plot' has no attribute 'ren'",
     "output_type": "error",
     "traceback": [
      "\u001b[0;31m---------------------------------------------------------------------------\u001b[0m",
      "\u001b[0;31mAttributeError\u001b[0m                            Traceback (most recent call last)",
      "\u001b[0;32m<ipython-input-53-986d7caf7c88>\u001b[0m in \u001b[0;36m<module>\u001b[0;34m\u001b[0m\n\u001b[1;32m     57\u001b[0m \u001b[0;31m#cubeAxesActor.SetCamera(vp.ren.GetActiveCamera())\u001b[0m\u001b[0;34m\u001b[0m\u001b[0;34m\u001b[0m\u001b[0;34m\u001b[0m\u001b[0m\n\u001b[1;32m     58\u001b[0m \u001b[0;31m#vp.ren.ResetCamera()\u001b[0m\u001b[0;34m\u001b[0m\u001b[0;34m\u001b[0m\u001b[0;34m\u001b[0m\u001b[0m\n\u001b[0;32m---> 59\u001b[0;31m \u001b[0mvp\u001b[0m\u001b[0;34m.\u001b[0m\u001b[0mren\u001b[0m\u001b[0;34m.\u001b[0m\u001b[0mAddActor\u001b[0m\u001b[0;34m(\u001b[0m\u001b[0mCubeAxesActor\u001b[0m\u001b[0;34m)\u001b[0m\u001b[0;34m;\u001b[0m\u001b[0;34m\u001b[0m\u001b[0;34m\u001b[0m\u001b[0m\n\u001b[0m\u001b[1;32m     60\u001b[0m \u001b[0mvp\u001b[0m\u001b[0;34m.\u001b[0m\u001b[0mplot_roots\u001b[0m\u001b[0;34m(\u001b[0m\u001b[0mrs\u001b[0m\u001b[0;34m,\u001b[0m \u001b[0;34m\"creationTime\"\u001b[0m\u001b[0;34m)\u001b[0m\u001b[0;34m\u001b[0m\u001b[0;34m\u001b[0m\u001b[0m\n\u001b[1;32m     61\u001b[0m \u001b[0;34m\u001b[0m\u001b[0m\n",
      "\u001b[0;31mAttributeError\u001b[0m: module 'vtk_plot' has no attribute 'ren'"
     ]
    }
   ],
   "source": [
    "# Export final result (as vtp)\n",
    "#rs.write(\"resultsLAB/RLab201012_Heliantus_Pagès_2013.vtp\")\n",
    "\n",
    "# Export final result as rsml \n",
    "# nefunguje - vt.write_rsml(\"resultsLAB/Triticum_aestivum_LAB201006.rsml\", rs, \"meta\")\n",
    "# FUNGUJE - rs.write(\"resultsLAB/test.rsml\")\n",
    "\n",
    "# Plot, using vtk\n",
    "#vp.plot_roots(rs, \"creationTime\")\n",
    "# cubeAxesActor = vtk.vtkCubeAxesActor()\n",
    "# cubeAxesActor.SetBounds(rs.GetOutput().GetBounds())\n",
    "# cubeAxesActor.SetCamera(renderer.GetActiveCamera())\n",
    "\n",
    "#help(rs.getNodes())\n",
    "#dir(rs)\n",
    "#print(rs.getNodes())\n",
    "Nodes = rs.getNodes() # \n",
    "#print(Nodes[9].y)\n",
    "\n",
    "# ve vtk_plpot jako BOUNDS\n",
    "nNodes=len(Nodes)\n",
    "\n",
    "xx=[0] * nNodes\n",
    "yy=[0] * nNodes\n",
    "zz=[0] * nNodes\n",
    "for i in range(0, nNodes):\n",
    "    xx[i]=Nodes[i].x\n",
    "    yy[i]=Nodes[i].y\n",
    "    zz[i]=Nodes[i].z\n",
    "\n",
    "xmax=max(xx)\n",
    "ymax=max(yy)\n",
    "zmax=max(zz)\n",
    "print(xmax)\n",
    "\n",
    "xmin=min(xx)\n",
    "ymin=min(yy)\n",
    "zmin=min(zz)\n",
    "print(ymin)\n",
    "\n",
    "xc=(xmax+xmin)/2\n",
    "yc=(ymax+ymin)/2\n",
    "zc=(zmax+zmin)/2\n",
    "\n",
    "dx=(xmax-xc)*1.2\n",
    "xmax=xc+dx\n",
    "xmin=xc-dx\n",
    "dy=(ymax-yc)*1.2\n",
    "ymax=yc+dy\n",
    "ymin=yc-dy\n",
    "dz=(zmax-zc)*1.2\n",
    "zmax=zc+dz\n",
    "zmin=zc-dz\n",
    "\n",
    "\n",
    "cubeAxesActor = vp.vtk.vtkCubeAxesActor()\n",
    "cubeAxesActor.SetBounds(xmin,xmax,ymin,ymax,zmin,zmax)\n",
    "#cubeAxesActor.SetCamera(vp.ren.GetActiveCamera())\n",
    "#vp.ren.ResetCamera()\n",
    "vp.ren.AddActor(CubeAxesActor);\n",
    "vp.plot_roots(rs, \"creationTime\")\n",
    "\n",
    "\n",
    "#limits = 'no' # dat sem nalezena maxima z Nodes[] ..."
   ]
  },
  {
   "cell_type": "markdown",
   "metadata": {},
   "source": [
    "#### Oblibene IPython magics"
   ]
  },
  {
   "cell_type": "code",
   "execution_count": null,
   "metadata": {},
   "outputs": [],
   "source": [
    "%%writefile\n",
    "%pycat\n",
    "%load"
   ]
  },
  {
   "cell_type": "code",
   "execution_count": null,
   "metadata": {},
   "outputs": [],
   "source": [
    "%% magicwords help"
   ]
  },
  {
   "cell_type": "code",
   "execution_count": null,
   "metadata": {},
   "outputs": [],
   "source": [
    "%pycat example1_LAB200811_multiple.py"
   ]
  },
  {
   "cell_type": "code",
   "execution_count": null,
   "metadata": {},
   "outputs": [],
   "source": [
    "import example2a_initializeparams"
   ]
  },
  {
   "cell_type": "code",
   "execution_count": null,
   "metadata": {},
   "outputs": [],
   "source": [
    "import example2c_lateralspacing"
   ]
  },
  {
   "cell_type": "code",
   "execution_count": null,
   "metadata": {},
   "outputs": [],
   "source": [
    "import example2d_length"
   ]
  },
  {
   "cell_type": "code",
   "execution_count": null,
   "metadata": {},
   "outputs": [],
   "source": [
    "import example2e_roottips"
   ]
  },
  {
   "cell_type": "markdown",
   "metadata": {},
   "source": [
    "## WIP multiple hydrotopism"
   ]
  },
  {
   "cell_type": "code",
   "execution_count": 2,
   "metadata": {},
   "outputs": [
    {
     "name": "stdout",
     "output_type": "stream",
     "text": [
      "title Multiple Hydro\n"
     ]
    },
    {
     "data": {
      "text/plain": [
       "((vtkRenderingOpenGL2Python.vtkOpenGLActor)0x7f11653aaad0,\n",
       " (vtkRenderingAnnotationPython.vtkScalarBarActor)0x7f11653aab40)"
      ]
     },
     "execution_count": 2,
     "metadata": {},
     "output_type": "execute_result"
    }
   ],
   "source": [
    "#%%writefile example1_LAB201006_multiple_hydrotropism_Nov21.py\n",
    "\"\"\"hydrotropism in a middle of a two plants\"\"\"\n",
    "import sys; sys.path.append(\"../../..\"); sys.path.append(\"../../../src/python_modules\")\n",
    "import plantbox as pb\n",
    "import vtk_plot as vp\n",
    "\n",
    "rs = pb.RootSystem()\n",
    "path = \"../../../modelparameter/rootsystem/RootLab/\"\n",
    "name = [\"LabMod_Bush\", \"../Juncus_squarrosus_Clausnitzer_1994\", \"LabMod_Bush\", \"LabMod_Bush\"]\n",
    "\n",
    "# Static soil property in a thin layer\n",
    "maxS = 5  # maximal\n",
    "minS = 0.5  # minimal\n",
    "slope = 10  # linear gradient between min and max (cm), half length of linear interpolation between fmax and fmin\n",
    "box = pb.SDF_PlantBox(200, 200, 30)  # cm\n",
    "layer = pb.SDF_RotateTranslate(box, pb.Vector3d(0, 0, 10))\n",
    "box2 = pb.SDF_PlantBox(200, 200, 60)\n",
    "layer2 = pb.SDF_RotateTranslate(box2, pb.Vector3d(0, 0, -150))\n",
    "soil_prop = pb.SoilLookUpSDF(layer, maxS, minS, slope)\n",
    "\n",
    "C = 1   # number of columns\n",
    "R = 1   # and rows\n",
    "dist = 35  # distance between the root systems [cm]\n",
    "\n",
    "# Initializes C*R root systems\n",
    "allRS = []\n",
    "for i in range(0, C):\n",
    "    for j in range(0, R):\n",
    "        rs = pb.RootSystem()\n",
    "        rs.readParameters(path + name[i] + \".xml\")\n",
    "        # Manually set tropism to hydrotropism for the first six root types\n",
    "        sigma = [0.05, 0.3, 0.5, 0.6]\n",
    "        tropN = [0.7, 0.8, 1.0, 1.0] # *2 strength of tropism\n",
    "        #RootLifeTime = [50, 40, 40, 30]\n",
    "        #for p in rs.getRootRandomParameter():\n",
    "            #p.dx = 0.5  # adjust resolution\n",
    "            #p.tropismT = pb.TropismType.hydro\n",
    "            #p.tropismN = tropN[p.subType - 1]  # strength of tropism\n",
    "            #p.tropismS = sigma[p.subType - 1]\n",
    "            #p.rlt = RootLifeTime[i]\n",
    "            \n",
    "        rs.getRootSystemParameter().seedPos = pb.Vector3d(dist * i - (dist/2), dist * j, -4.)  # cm\n",
    "        rs.setSoil(soil_prop) # Set the soil properties before calling initialize\n",
    "        rs.initialize(False)  # verbose = False\n",
    "        allRS.append(rs)\n",
    "        \n",
    "# Simulate dynamically\n",
    "simtime = 90  # e.g. 30 or 60 days\n",
    "dt = 1\n",
    "N = round(simtime / dt)\n",
    "for _ in range(0, N):\n",
    "    for rs in allRS:\n",
    "        ## in a dynamic soil setting you would need to update the soil properties (soil_prop)\n",
    "        rs.simulate(dt, True)\n",
    "    \n",
    "# Export results as single vtp files (as polylines)\n",
    "ana = pb.SegmentAnalyser()  # see example 3b\n",
    "for i, rs in enumerate(allRS):\n",
    "      vtpname = \"resultsLAB/RLab_201121_Bush\" + str(i) + \".vtp\"\n",
    "      rs.write(vtpname)\n",
    "      ana.addSegments(rs)  # collect all\n",
    "    \n",
    "vp.plot_roots(ana, 'subType', \"Multiple Hydro\", True) # misto creationTime muze byt napr. subType ...\n",
    "\n"
   ]
  },
  {
   "cell_type": "code",
   "execution_count": 7,
   "metadata": {},
   "outputs": [
    {
     "data": {
      "text/plain": [
       "((vtkRenderingOpenGL2Python.vtkOpenGLActor)0x7fc18049ebb0,\n",
       " (vtkRenderingAnnotationPython.vtkScalarBarActor)0x7fc18049ec20)"
      ]
     },
     "execution_count": 7,
     "metadata": {},
     "output_type": "execute_result"
    }
   ],
   "source": [
    "# %load example1_LAB200903_multiple_hydrotropism_centerWORKS.py\n"
   ]
  },
  {
   "cell_type": "code",
   "execution_count": 8,
   "metadata": {},
   "outputs": [
    {
     "name": "stdout",
     "output_type": "stream",
     "text": [
      "[0.5, 1.0, 2.0, 0.5, 1.0, 2.0]\n"
     ]
    }
   ],
   "source": [
    "N = [0.5, 1., 2.] * 2\n",
    "print(N)"
   ]
  },
  {
   "cell_type": "markdown",
   "metadata": {},
   "source": [
    "# odkladiste"
   ]
  },
  {
   "cell_type": "code",
   "execution_count": null,
   "metadata": {
    "scrolled": true
   },
   "outputs": [],
   "source": [
    "        \n",
    "# Simulate dynamically\n",
    "simtime = 25  # e.g. 30 or 60 days\n",
    "dt = 1\n",
    "N = round(simtime / dt)\n",
    "for _ in range(0, N):\n",
    "    for rs in allRS:\n",
    "        ## in a dynamic soil setting you would need to update the soil properties (soil_prop)\n",
    "        rs.simulate(dt, True)\n",
    "\n",
    "# Simulate\n",
    "for rs in allRS:\n",
    "    rs.simulate(simtime, True)  # verbose = False\n",
    "\n",
    "\n",
    "# Export results as single vtp files (as polylines)\n",
    "ana = pb.SegmentAnalyser()  # see example 3b\n",
    "for i, rs in enumerate(allRS):\n",
    "      vtpname = \"results/example_LAB_multiple_hydrotrop\" + str(i) + \".vtp\"\n",
    "#      rs.write(vtpname)\n",
    "      ana.addSegments(rs)  # collect all\n",
    "\n",
    "# Plot, using vtk\n",
    "#vp.plot_roots(rs, 'subType', 'oblique', True)\n",
    "vp.plot_roots(ana, 'subType', \"Multiple Hydro\", True)\n",
    "\n",
    "# testujeme kod\n",
    "# print(pb.SoilLookUpSDF)"
   ]
  },
  {
   "cell_type": "code",
   "execution_count": null,
   "metadata": {},
   "outputs": [],
   "source": [
    "# %load example4a_hydrotropism.py\n",
    "\"\"\"hydrotropism in a thin layer\"\"\"\n",
    "import sys; sys.path.append(\"../../..\")\n",
    "import plantbox as pb\n",
    "import vtk_plot as vp\n",
    "\n",
    "rs = pb.RootSystem()\n",
    "path = \"../../../modelparameter/rootsystem/\"\n",
    "name = \"Anagallis_femina_Leitner_2010\"\n",
    "rs.readParameters(path + name + \".xml\")\n",
    "\n",
    "# Manually set tropism to hydrotropism for the first ten root types\n",
    "sigma = [0.4, 1., 1., 1., 1. ] * 2\n",
    "for p in rs.getRootRandomParameter():\n",
    "        p.dx = 0.25  # adjust resolution\n",
    "        p.tropismT = pb.TropismType.hydro\n",
    "        p.tropismN = 2  # strength of tropism\n",
    "        p.tropismS = sigma[p.subType - 1]\n",
    "\n",
    "# Static soil property in a thin layer\n",
    "maxS = 0.7  # maximal\n",
    "minS = 0.1  # minimal\n",
    "slope = 5  # linear gradient between min and max (cm)\n",
    "box = pb.SDF_PlantBox(30, 30, 2)  # cm\n",
    "layer = pb.SDF_RotateTranslate(box, pb.Vector3d(0, 0, -16))\n",
    "soil_prop = pb.SoilLookUpSDF(layer, maxS, minS, slope)\n",
    "\n",
    "# Set the soil properties before calling initialize\n",
    "rs.setSoil(soil_prop)\n",
    "\n",
    "# Initialize\n",
    "rs.initialize()\n",
    "\n",
    "# Simulate\n",
    "simtime = 100  # e.g. 30 or 60 days\n",
    "dt = 1\n",
    "N = round(simtime / dt)\n",
    "for _ in range(0, N):\n",
    "    # in a dynamic soil setting you would need to update the soil properties (soil_prop)\n",
    "    rs.simulate(dt)\n",
    "\n",
    "# Plot, using vtk\n",
    "vp.plot_roots(rs, \"type\", 'oblique', True)\n"
   ]
  },
  {
   "cell_type": "code",
   "execution_count": 10,
   "metadata": {},
   "outputs": [],
   "source": [
    "import time\n",
    "time.sleep(3)"
   ]
  },
  {
   "cell_type": "code",
   "execution_count": 12,
   "metadata": {},
   "outputs": [
    {
     "data": {
      "text/plain": [
       "'Hello, Stepan!'"
      ]
     },
     "execution_count": 12,
     "metadata": {},
     "output_type": "execute_result"
    }
   ],
   "source": [
    "def say_hello(recipient):\n",
    "    return 'Hello, {}!'.format(recipient)\n",
    "\n",
    "say_hello('Stepan')"
   ]
  },
  {
   "cell_type": "code",
   "execution_count": 14,
   "metadata": {},
   "outputs": [
    {
     "name": "stdout",
     "output_type": "stream",
     "text": [
      "25\n"
     ]
    }
   ],
   "source": [
    "import numpy as np\n",
    "def square(x):\n",
    "    return x * x\n",
    "\n",
    "print(square(5))"
   ]
  },
  {
   "cell_type": "code",
   "execution_count": null,
   "metadata": {},
   "outputs": [],
   "source": [
    "x = np.random.randint(1, 10)\n",
    "y = square(x)\n",
    "z = 15\n",
    "print('%d squared is %d a muj test %' % (x, y, z))"
   ]
  },
  {
   "cell_type": "code",
   "execution_count": null,
   "metadata": {},
   "outputs": [],
   "source": [
    "y = 10\n",
    "print('Is %d squared %d?' % (x, y))"
   ]
  },
  {
   "cell_type": "code",
   "execution_count": 15,
   "metadata": {},
   "outputs": [
    {
     "name": "stdout",
     "output_type": "stream",
     "text": [
      "Hello, Paul. Good morning!\n"
     ]
    }
   ],
   "source": [
    "def greet(name):\n",
    "    \"\"\"\n",
    "    This function greets to\n",
    "    the person passed in as\n",
    "    a parameter\n",
    "    \"\"\"\n",
    "    print(\"Hello, \" + name + \". Good morning!\")\n",
    "\n",
    "greet('Paul')"
   ]
  },
  {
   "cell_type": "code",
   "execution_count": null,
   "metadata": {},
   "outputs": [],
   "source": [
    "print(def.__doc__)\n",
    "    "
   ]
  }
 ],
 "metadata": {
  "kernelspec": {
   "display_name": "Python 3",
   "language": "python",
   "name": "python3"
  },
  "language_info": {
   "codemirror_mode": {
    "name": "ipython",
    "version": 3
   },
   "file_extension": ".py",
   "mimetype": "text/x-python",
   "name": "python",
   "nbconvert_exporter": "python",
   "pygments_lexer": "ipython3",
   "version": "3.7.7"
  }
 },
 "nbformat": 4,
 "nbformat_minor": 4
}
