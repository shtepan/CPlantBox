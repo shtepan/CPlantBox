{
 "cells": [
  {
   "cell_type": "code",
   "execution_count": null,
   "metadata": {},
   "outputs": [],
   "source": [
    "# %load example1a_small\n",
    "\"\"\"small example\"\"\"\n",
    "import sys\n",
    "sys.path.append(\"../../..\")\n",
    "import plantbox as pb\n",
    "import vtk_plot as vp\n",
    "\n",
    "rs = pb.RootSystem()\n",
    "\n",
    "# Open plant and root parameter from a file\n",
    "path = \"../../../modelparameter/rootsystem/\"\n",
    "name = \"Anagallis_femina_Leitner_2010\"\n",
    "rs.readParameters(path + name + \".xml\")\n",
    "\n",
    "# Initialize\n",
    "rs.initialize()\n",
    "\n",
    "# Simulate\n",
    "rs.simulate(30, True)\n",
    "\n",
    "# Export final result (as vtp)\n",
    "rs.write(\"results/example_1a.vtp\")\n",
    "\n",
    "# Plot, using vtk\n",
    "vp.plot_roots(rs, \"creationTime\")\n"
   ]
  },
  {
   "cell_type": "markdown",
   "metadata": {},
   "source": [
    "#### Oblibene IPython magics"
   ]
  },
  {
   "cell_type": "code",
   "execution_count": null,
   "metadata": {},
   "outputs": [],
   "source": [
    "%%writefile\n",
    "%pycat\n",
    "%load"
   ]
  },
  {
   "cell_type": "code",
   "execution_count": null,
   "metadata": {},
   "outputs": [],
   "source": [
    "%% magicwords help"
   ]
  },
  {
   "cell_type": "code",
   "execution_count": null,
   "metadata": {},
   "outputs": [],
   "source": [
    "%pycat example1_LAB200811_multiple.py"
   ]
  },
  {
   "cell_type": "code",
   "execution_count": null,
   "metadata": {},
   "outputs": [],
   "source": [
    "import example2a_initializeparams"
   ]
  },
  {
   "cell_type": "code",
   "execution_count": null,
   "metadata": {},
   "outputs": [],
   "source": [
    "import example2c_lateralspacing"
   ]
  },
  {
   "cell_type": "code",
   "execution_count": null,
   "metadata": {},
   "outputs": [],
   "source": [
    "import example2d_length"
   ]
  },
  {
   "cell_type": "code",
   "execution_count": null,
   "metadata": {},
   "outputs": [],
   "source": [
    "import example2e_roottips"
   ]
  },
  {
   "cell_type": "markdown",
   "metadata": {},
   "source": [
    "## WIP"
   ]
  },
  {
   "cell_type": "code",
   "execution_count": 92,
   "metadata": {},
   "outputs": [
    {
     "data": {
      "text/plain": [
       "((vtkRenderingOpenGL2Python.vtkOpenGLActor)0x7f4c94cafc90,\n",
       " (vtkRenderingAnnotationPython.vtkScalarBarActor)0x7f4c94cafb40)"
      ]
     },
     "execution_count": 92,
     "metadata": {},
     "output_type": "execute_result"
    }
   ],
   "source": [
    "#%%writefile example1_LAB200903_multiple_hydrotropism_centerWORKS.py\n",
    "\"\"\"hydrotropism in a middle of a two plants\"\"\"\n",
    "import sys; sys.path.append(\"../../..\")\n",
    "import plantbox as pb\n",
    "import vtk_plot as vp\n",
    "\n",
    "rs = pb.RootSystem()\n",
    "path = \"../../../modelparameter/rootsystem/\"\n",
    "name = [\"PS_Pages_mod1bmodA\", \"PS_Pages_mod1bmodB\", \"PS_Pages_mod1bmodB\", \"PS_Pages_mod1bmodB\"]\n",
    "\n",
    "# Static soil property in a thin layer\n",
    "maxS = 10  # maximal\n",
    "minS = 0.1  # minimal\n",
    "slope = 9  # linear gradient between min and max (cm), half length of linear interpolation between fmax and fmin\n",
    "box = pb.SDF_PlantBox(10, 10, 10)  # cm\n",
    "layer = pb.SDF_RotateTranslate(box, pb.Vector3d(0, 0, -13))\n",
    "soil_prop = pb.SoilLookUpSDF(layer, maxS, minS, slope)\n",
    "\n",
    "C = 2  # number of columns\n",
    "R = 1   # and rows\n",
    "dist = 28  # distance between the root systems [cm]\n",
    "\n",
    "# Initializes C*R root systems\n",
    "allRS = []\n",
    "for i in range(0, C):\n",
    "    for j in range(0, R):\n",
    "        rs = pb.RootSystem()\n",
    "        rs.readParameters(path + name[i] + \".xml\")\n",
    "        \n",
    "        # Manually set tropism to hydrotropism for the first six root types\n",
    "        sigma = [0.35, 0.4, 0.4]\n",
    "        tropN = [0.3, 0.5, 0.9] # strength of tropism\n",
    "        #RootLif3Time = [50, 40, 40, 30]\n",
    "        for p in rs.getRootRandomParameter():\n",
    "            p.dx = 0.5  # adjust resolution\n",
    "            p.tropismT = pb.TropismType.hydro\n",
    "            p.tropismN = tropN[p.subType - 1]  # strength of tropism\n",
    "            p.tropismS = sigma[p.subType - 1]\n",
    "            #p.rlt = RootLifeTime[i]\n",
    "        rs.getRootSystemParameter().seedPos = pb.Vector3d(dist * i - (dist/2), dist * j, -3.)  # cm\n",
    "        \n",
    "        rs.setSoil(soil_prop) # Set the soil properties before calling initialize\n",
    "        rs.initialize(False)  # verbose = False\n",
    "        allRS.append(rs)\n",
    "        \n",
    "# Simulate dynamically\n",
    "simtime = 40  # e.g. 30 or 60 days\n",
    "dt = 1\n",
    "N = round(simtime / dt)\n",
    "for _ in range(0, N):\n",
    "    for rs in allRS:\n",
    "        ## in a dynamic soil setting you would need to update the soil properties (soil_prop)\n",
    "        rs.simulate(dt, True)\n",
    "    \n",
    "# Export results as single vtp files (as polylines)\n",
    "ana = pb.SegmentAnalyser()  # see example 3b\n",
    "for i, rs in enumerate(allRS):\n",
    "      vtpname = \"results/example_LAB_multiple_hydrotrop_201001a\" + str(i) + \".vtp\"\n",
    "      rs.write(vtpname)\n",
    "      ana.addSegments(rs)  # collect all\n",
    "    \n",
    "vp.plot_roots(ana, 'subType', \"Multiple Hydro\", True)\n",
    "\n"
   ]
  },
  {
   "cell_type": "code",
   "execution_count": 103,
   "metadata": {},
   "outputs": [
    {
     "data": {
      "text/plain": [
       "((vtkRenderingOpenGL2Python.vtkOpenGLActor)0x7f4c94c33fa0,\n",
       " (vtkRenderingAnnotationPython.vtkScalarBarActor)0x7f4c94c33a60)"
      ]
     },
     "execution_count": 103,
     "metadata": {},
     "output_type": "execute_result"
    }
   ],
   "source": [
    "# %load example1_LAB200903_multiple_hydrotropism_centerWORKS.py\n",
    "\"\"\"hydrotropism in a middle of a two plants\"\"\"\n",
    "import sys; sys.path.append(\"../../..\")\n",
    "import plantbox as pb\n",
    "import vtk_plot as vp\n",
    "\n",
    "rs = pb.RootSystem()\n",
    "path = \"../../../modelparameter/rootsystem/\"\n",
    "name = [\"PS_Pages_mod1bmodA\", \"PS_Pages_mod1bmodB\"]\n",
    "\n",
    "# Static soil property in a thin layer\n",
    "maxS = 4  # maximal\n",
    "minS = 0.1  # minimal\n",
    "slope = 5  # linear gradient between min and max (cm)\n",
    "box = pb.SDF_PlantBox(20, 20, 20)  # cm\n",
    "layer = pb.SDF_RotateTranslate(box, pb.Vector3d(0, 0, -23))\n",
    "soil_prop = pb.SoilLookUpSDF(layer, maxS, minS, slope)\n",
    "\n",
    "C = 2  # number of columns\n",
    "R = 1   # and rows\n",
    "dist = 15  # distance between the root systems [cm]\n",
    "\n",
    "# Initializes C*R root systems\n",
    "allRS = []\n",
    "for i in range(0, C):\n",
    "    for j in range(0, R):\n",
    "        rs = pb.RootSystem()\n",
    "        rs.readParameters(path + name[i] + \".xml\")\n",
    "        \n",
    "        # Manually set tropism to hydrotropism for the first six root types\n",
    "        sigma = [0.4, 0.5, 0.6] * 2\n",
    "        tropN = [0.5, 0.9, 1.2] * 2 # strength of tropism\n",
    "        for p in rs.getRootRandomParameter():\n",
    "            p.dx = 0.25  # adjust resolution\n",
    "            p.tropismT = pb.TropismType.hydro\n",
    "            p.tropismN = tropN[p.subType - 1]  # strength of tropism\n",
    "            p.tropismS = sigma[p.subType - 1]\n",
    "        rs.getRootSystemParameter().seedPos = pb.Vector3d(dist * i - (dist / 2), dist * j - (dist / 2), -3.)  # cm\n",
    "        \n",
    "        rs.setSoil(soil_prop) # Set the soil properties before calling initialize\n",
    "        rs.initialize(False)  # verbose = False\n",
    "        allRS.append(rs)\n",
    "        \n",
    "# Simulate dynamically\n",
    "simtime = 30  # e.g. 30 or 60 days\n",
    "dt = 2\n",
    "N = round(simtime / dt)\n",
    "for _ in range(0, N):\n",
    "    for rs in allRS:\n",
    "        ## in a dynamic soil setting you would need to update the soil properties (soil_prop)\n",
    "        rs.simulate(dt, True)\n",
    "    \n",
    "# Export results as single vtp files (as polylines)\n",
    "ana = pb.SegmentAnalyser()  # see example 3b\n",
    "for i, rs in enumerate(allRS):\n",
    "      vtpname = \"results/example_LAB_multiple_hydrotrop\" + str(i) + \".vtp\"\n",
    "#      rs.write(vtpname)\n",
    "      ana.addSegments(rs)  # collect all\n",
    "    \n",
    "vp.plot_roots(ana, 'subType', \"Multiple Hydro\", True)\n"
   ]
  },
  {
   "cell_type": "code",
   "execution_count": null,
   "metadata": {},
   "outputs": [],
   "source": [
    "N = [0.5, 1., 2.] * 2\n",
    "print(N)"
   ]
  },
  {
   "cell_type": "markdown",
   "metadata": {},
   "source": [
    "# odkladiste"
   ]
  },
  {
   "cell_type": "code",
   "execution_count": null,
   "metadata": {
    "scrolled": true
   },
   "outputs": [],
   "source": [
    "        \n",
    "# Simulate dynamically\n",
    "simtime = 25  # e.g. 30 or 60 days\n",
    "dt = 1\n",
    "N = round(simtime / dt)\n",
    "for _ in range(0, N):\n",
    "    for rs in allRS:\n",
    "        ## in a dynamic soil setting you would need to update the soil properties (soil_prop)\n",
    "        rs.simulate(dt, True)\n",
    "\n",
    "# Simulate\n",
    "for rs in allRS:\n",
    "    rs.simulate(simtime, True)  # verbose = False\n",
    "\n",
    "\n",
    "# Export results as single vtp files (as polylines)\n",
    "ana = pb.SegmentAnalyser()  # see example 3b\n",
    "for i, rs in enumerate(allRS):\n",
    "      vtpname = \"results/example_LAB_multiple_hydrotrop\" + str(i) + \".vtp\"\n",
    "#      rs.write(vtpname)\n",
    "      ana.addSegments(rs)  # collect all\n",
    "\n",
    "# Plot, using vtk\n",
    "#vp.plot_roots(rs, 'subType', 'oblique', True)\n",
    "vp.plot_roots(ana, 'subType', \"Multiple Hydro\", True)\n",
    "\n",
    "# testujeme kod\n",
    "# print(pb.SoilLookUpSDF)"
   ]
  },
  {
   "cell_type": "code",
   "execution_count": null,
   "metadata": {},
   "outputs": [],
   "source": [
    "# %load example4a_hydrotropism.py\n",
    "\"\"\"hydrotropism in a thin layer\"\"\"\n",
    "import sys; sys.path.append(\"../../..\")\n",
    "import plantbox as pb\n",
    "import vtk_plot as vp\n",
    "\n",
    "rs = pb.RootSystem()\n",
    "path = \"../../../modelparameter/rootsystem/\"\n",
    "name = \"Anagallis_femina_Leitner_2010\"\n",
    "rs.readParameters(path + name + \".xml\")\n",
    "\n",
    "# Manually set tropism to hydrotropism for the first ten root types\n",
    "sigma = [0.4, 1., 1., 1., 1. ] * 2\n",
    "for p in rs.getRootRandomParameter():\n",
    "        p.dx = 0.25  # adjust resolution\n",
    "        p.tropismT = pb.TropismType.hydro\n",
    "        p.tropismN = 2  # strength of tropism\n",
    "        p.tropismS = sigma[p.subType - 1]\n",
    "\n",
    "# Static soil property in a thin layer\n",
    "maxS = 0.7  # maximal\n",
    "minS = 0.1  # minimal\n",
    "slope = 5  # linear gradient between min and max (cm)\n",
    "box = pb.SDF_PlantBox(30, 30, 2)  # cm\n",
    "layer = pb.SDF_RotateTranslate(box, pb.Vector3d(0, 0, -16))\n",
    "soil_prop = pb.SoilLookUpSDF(layer, maxS, minS, slope)\n",
    "\n",
    "# Set the soil properties before calling initialize\n",
    "rs.setSoil(soil_prop)\n",
    "\n",
    "# Initialize\n",
    "rs.initialize()\n",
    "\n",
    "# Simulate\n",
    "simtime = 100  # e.g. 30 or 60 days\n",
    "dt = 1\n",
    "N = round(simtime / dt)\n",
    "for _ in range(0, N):\n",
    "    # in a dynamic soil setting you would need to update the soil properties (soil_prop)\n",
    "    rs.simulate(dt)\n",
    "\n",
    "# Plot, using vtk\n",
    "vp.plot_roots(rs, \"type\", 'oblique', True)\n"
   ]
  },
  {
   "cell_type": "code",
   "execution_count": null,
   "metadata": {},
   "outputs": [],
   "source": [
    "print('Hello World!')\n"
   ]
  },
  {
   "cell_type": "code",
   "execution_count": null,
   "metadata": {},
   "outputs": [],
   "source": [
    "import time\n",
    "time.sleep(3)"
   ]
  },
  {
   "cell_type": "code",
   "execution_count": null,
   "metadata": {},
   "outputs": [],
   "source": [
    "def say_hello(recipient):\n",
    "    return 'Hello, {}!'.format(recipient)\n",
    "\n",
    "say_hello('Tim')"
   ]
  },
  {
   "cell_type": "code",
   "execution_count": null,
   "metadata": {},
   "outputs": [],
   "source": [
    "import numpy as np\n",
    "def square(x):\n",
    "    return x * x"
   ]
  },
  {
   "cell_type": "code",
   "execution_count": null,
   "metadata": {},
   "outputs": [],
   "source": [
    "x = np.random.randint(1, 10)\n",
    "y = square(x)\n",
    "z = 15\n",
    "print('%d squared is %d a muj test %' % (x, y, z))"
   ]
  },
  {
   "cell_type": "code",
   "execution_count": null,
   "metadata": {},
   "outputs": [],
   "source": [
    "y = 10\n",
    "print('Is %d squared %d?' % (x, y))"
   ]
  },
  {
   "cell_type": "code",
   "execution_count": null,
   "metadata": {},
   "outputs": [],
   "source": [
    "def greet(name):\n",
    "    \"\"\"\n",
    "    This function greets to\n",
    "    the person passed in as\n",
    "    a parameter\n",
    "    \"\"\"\n",
    "    print(\"Hello, \" + name + \". Good morning!\")\n",
    "\n",
    "greet('Paul')"
   ]
  },
  {
   "cell_type": "code",
   "execution_count": null,
   "metadata": {},
   "outputs": [],
   "source": [
    "print(def.__doc__)\n",
    "    "
   ]
  }
 ],
 "metadata": {
  "kernelspec": {
   "display_name": "Python 3",
   "language": "python",
   "name": "python3"
  },
  "language_info": {
   "codemirror_mode": {
    "name": "ipython",
    "version": 3
   },
   "file_extension": ".py",
   "mimetype": "text/x-python",
   "name": "python",
   "nbconvert_exporter": "python",
   "pygments_lexer": "ipython3",
   "version": "3.7.7"
  }
 },
 "nbformat": 4,
 "nbformat_minor": 4
}
