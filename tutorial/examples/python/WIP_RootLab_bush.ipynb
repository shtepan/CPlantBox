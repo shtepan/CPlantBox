{
 "cells": [
  {
   "cell_type": "code",
   "execution_count": 22,
   "metadata": {},
   "outputs": [
    {
     "name": "stdout",
     "output_type": "stream",
     "text": [
      "datum je dnes 210209\n",
      "495 nodes\n",
      "493 segments\n",
      "['__class__', '__delattr__', '__dir__', '__doc__', '__eq__', '__format__', '__ge__', '__getattribute__', '__gt__', '__hash__', '__init__', '__init_subclass__', '__le__', '__lt__', '__module__', '__ne__', '__new__', '__reduce__', '__reduce_ex__', '__repr__', '__setattr__', '__sizeof__', '__str__', '__subclasshook__', 'addOrgan', 'copy', 'createGrowthFunction', 'createTropismFunction', 'getBaseRoots', 'getNewNodeCTs', 'getNewNodes', 'getNewSegmentOrigins', 'getNewSegments', 'getNodeCTs', 'getNodeIndex', 'getNodes', 'getNumberOfNewNodes', 'getNumberOfNewOrgans', 'getNumberOfNodes', 'getNumberOfOrgans', 'getNumberOfRoots', 'getNumberOfSegments', 'getOrganIndex', 'getOrganRandomParameter', 'getOrgans', 'getParameter', 'getPolylineCTs', 'getPolylines', 'getRSMLProperties', 'getRSMLSkip', 'getRootBases', 'getRootRandomParameter', 'getRootSystemParameter', 'getRootTips', 'getRoots', 'getSegmentCTs', 'getSegmentOrigins', 'getSegments', 'getShootSegments', 'getSimTime', 'getSummed', 'getUpdatedNodeCTs', 'getUpdatedNodeIndices', 'getUpdatedNodes', 'initCallbacks', 'initialize', 'initializeDB', 'initializeLB', 'initializeReader', 'openFile', 'organTypeName', 'organTypeNumber', 'pop', 'push', 'rand', 'randn', 'readParameters', 'reset', 'setGeometry', 'setMinDx', 'setOrganRandomParameter', 'setRSMLSkip', 'setRootSystemParameter', 'setSeed', 'setSoil', 'setTropism', 'simulate', 'write', 'writeParameters', 'writeRSML']\n"
     ]
    }
   ],
   "source": [
    "# makame na TASKu :)\n",
    "\"\"\"small example\"\"\"\n",
    "import sys\n",
    "sys.path.append(\"../../..\"); sys.path.append(\"../../../src/python_modules\")\n",
    "import os             # knihovna zpristupnuje operace se soubory - tady konkretne nacteni nazvu z adresare\n",
    "import plantbox as pb\n",
    "import vtk_plot as vp\n",
    "from datetime import date\n",
    "\n",
    "rs = pb.RootSystem()\n",
    "\n",
    "# Open plant and root parameter from a file\n",
    "path = \"../../../modelparameter/rootsystem/\" \n",
    "name = \"Triticum_aestivum_a_Bingham_2011\"    # POZOR, rostlina:), napr. Lupinus_angustifolius_Chen_2011\n",
    "rs.readParameters(path + name + \".xml\")\n",
    "\n",
    "# Initializeo\n",
    "rs.initialize()\n",
    "\n",
    "# yymmdd\n",
    "today = date.today()\n",
    "date = today.strftime(\"%y%m%d\")\n",
    "print(\"datum je dnes\", date)\n",
    "\n",
    "# Simulate\n",
    "for i in range(1, 3, 1):\n",
    "    rs.simulate(i, True)\n",
    "#    vp.plot_roots(rs, \"creationTime\")\n",
    "#    # writeout\n",
    "#    vtpname = \"resultsLAB/RLab_\" + str(date) + \"_\" + name + \"_\" + str(i) + \"denni_simulace.vtp\"\n",
    "#    rs.write(vtpname)\n",
    "#else:\n",
    "#    print(\"DONE\")\n",
    "\n",
    "print(rs.getNumberOfNodes(), \"nodes\")\n",
    "print(rs.getNumberOfSegments(), \"segments\")\n",
    "print(dir(rs))\n",
    "\n",
    "files = os.listdir(path)  # path je definovan vyse\n",
    "files.sort()\n",
    "#print(files)"
   ]
  },
  {
   "cell_type": "code",
   "execution_count": 60,
   "metadata": {},
   "outputs": [
    {
     "name": "stdout",
     "output_type": "stream",
     "text": [
      "404 nodes\n",
      "402 segments\n"
     ]
    },
    {
     "data": {
      "image/png": "[encoded data removed]",
      "text/plain": [
       "<Figure size 432x288 with 1 Axes>"
      ]
     },
     "metadata": {
      "needs_background": "light"
     },
     "output_type": "display_data"
    },
    {
     "name": "stdout",
     "output_type": "stream",
     "text": [
      "Unequal tips and basals: 0\n"
     ]
    }
   ],
   "source": [
    "\"\"\"find root tips and bases (two approaches)\"\"\"\n",
    "import sys\n",
    "sys.path.append(\"../../..\"); sys.path.append(\"../../../src/python_modules\")\n",
    "import plantbox as pb\n",
    "\n",
    "import numpy as np\n",
    "import matplotlib.pyplot as plt\n",
    "\n",
    "path = \"../../../modelparameter/rootsystem/\"\n",
    "name = \"Pisum_sativum_a_Pagès_2014\"\n",
    "\n",
    "rs = pb.RootSystem()\n",
    "rs.readParameters(path + name + \".xml\")\n",
    "rs.initialize()\n",
    "rs.simulate(16, True)\n",
    "\n",
    "print(rs.getNumberOfNodes(), \"nodes\")\n",
    "print(rs.getNumberOfSegments(), \"segments\")\n",
    "\n",
    "# Use polyline representation of the roots\n",
    "polylines = rs.getPolylines()\n",
    "bases = np.zeros((len(polylines), 3))\n",
    "tips = np.zeros((len(polylines), 3))\n",
    "for i, r in enumerate(polylines):\n",
    "    bases[i, :] = [r[0].x, r[0].y, r[0].z]  # first index is the base\n",
    "    tips[i, :] = [r[-1].x, r[-1].y, r[-1].z]  # last index is the tip\n",
    "\n",
    "# Or, use node indices to find tip or base nodes\n",
    "nodes = np.array((list(map(np.array, rs.getNodes()))))\n",
    "tipI = rs.getRootTips()\n",
    "baseI = rs.getRootBases()\n",
    "\n",
    "# Plot results (1st approach)\n",
    "plt.title(\"Top view\")\n",
    "plt.xlabel(\"cm\")\n",
    "plt.ylabel(\"cm\")\n",
    "plt.scatter(nodes[baseI, 0], nodes[baseI, 1], c = \"g\", label = \"root bases\")\n",
    "plt.scatter(nodes[tipI, 0], nodes[tipI, 1], c = \"r\", label = \"root tips\")\n",
    "plt.legend()\n",
    "#plt.savefig(\"results/example_2e.png\")\n",
    "plt.show()\n",
    "\n",
    " # check if the two approaches yield the same result\n",
    "uneq = np.sum(nodes[baseI, :] != bases) + np.sum(nodes[tipI, :] != tips)\n",
    "print(\"Unequal tips and basals:\", uneq)\n"
   ]
  },
  {
   "cell_type": "code",
   "execution_count": 23,
   "metadata": {},
   "outputs": [
    {
     "name": "stdout",
     "output_type": "stream",
     "text": [
      "d3 = 01/19/21\n"
     ]
    }
   ],
   "source": [
    "from datetime import date\n",
    "\n",
    "today = date.today()\n",
    "# mm/dd/y\n",
    "d3 = today.strftime(\"%m/%d/%y\")\n",
    "print(\"d3 =\", d3)"
   ]
  },
  {
   "cell_type": "code",
   "execution_count": 53,
   "metadata": {
    "scrolled": true
   },
   "outputs": [
    {
     "name": "stdout",
     "output_type": "stream",
     "text": [
      "18.88492884968773\n",
      "-26.333050969978665\n"
     ]
    },
    {
     "ename": "AttributeError",
     "evalue": "module 'vtk_plot' has no attribute 'ren'",
     "output_type": "error",
     "traceback": [
      "\u001b[0;31m---------------------------------------------------------------------------\u001b[0m",
      "\u001b[0;31mAttributeError\u001b[0m                            Traceback (most recent call last)",
      "\u001b[0;32m<ipython-input-53-986d7caf7c88>\u001b[0m in \u001b[0;36m<module>\u001b[0;34m\u001b[0m\n\u001b[1;32m     57\u001b[0m \u001b[0;31m#cubeAxesActor.SetCamera(vp.ren.GetActiveCamera())\u001b[0m\u001b[0;34m\u001b[0m\u001b[0;34m\u001b[0m\u001b[0;34m\u001b[0m\u001b[0m\n\u001b[1;32m     58\u001b[0m \u001b[0;31m#vp.ren.ResetCamera()\u001b[0m\u001b[0;34m\u001b[0m\u001b[0;34m\u001b[0m\u001b[0;34m\u001b[0m\u001b[0m\n\u001b[0;32m---> 59\u001b[0;31m \u001b[0mvp\u001b[0m\u001b[0;34m.\u001b[0m\u001b[0mren\u001b[0m\u001b[0;34m.\u001b[0m\u001b[0mAddActor\u001b[0m\u001b[0;34m(\u001b[0m\u001b[0mCubeAxesActor\u001b[0m\u001b[0;34m)\u001b[0m\u001b[0;34m;\u001b[0m\u001b[0;34m\u001b[0m\u001b[0;34m\u001b[0m\u001b[0m\n\u001b[0m\u001b[1;32m     60\u001b[0m \u001b[0mvp\u001b[0m\u001b[0;34m.\u001b[0m\u001b[0mplot_roots\u001b[0m\u001b[0;34m(\u001b[0m\u001b[0mrs\u001b[0m\u001b[0;34m,\u001b[0m \u001b[0;34m\"creationTime\"\u001b[0m\u001b[0;34m)\u001b[0m\u001b[0;34m\u001b[0m\u001b[0;34m\u001b[0m\u001b[0m\n\u001b[1;32m     61\u001b[0m \u001b[0;34m\u001b[0m\u001b[0m\n",
      "\u001b[0;31mAttributeError\u001b[0m: module 'vtk_plot' has no attribute 'ren'"
     ]
    }
   ],
   "source": [
    "# Export final result (as vtp)\n",
    "#rs.write(\"resultsLAB/RLab201012_Heliantus_Pagès_2013.vtp\")\n",
    "\n",
    "# Export final result as rsml \n",
    "# nefunguje - vt.write_rsml(\"resultsLAB/Triticum_aestivum_LAB201006.rsml\", rs, \"meta\")\n",
    "# FUNGUJE - rs.write(\"resultsLAB/test.rsml\")\n",
    "\n",
    "# Plot, using vtk\n",
    "#vp.plot_roots(rs, \"creationTime\")\n",
    "# cubeAxesActor = vtk.vtkCubeAxesActor()\n",
    "# cubeAxesActor.SetBounds(rs.GetOutput().GetBounds())\n",
    "# cubeAxesActor.SetCamera(renderer.GetActiveCamera())\n",
    "\n",
    "#help(rs.getNodes())\n",
    "#dir(rs)\n",
    "#print(rs.getNodes())\n",
    "Nodes = rs.getNodes() # \n",
    "#print(Nodes[9].y)\n",
    "\n",
    "# ve vtk_plpot jako BOUNDS\n",
    "nNodes=len(Nodes)\n",
    "\n",
    "xx=[0] * nNodes\n",
    "yy=[0] * nNodes\n",
    "zz=[0] * nNodes\n",
    "for i in range(0, nNodes):\n",
    "    xx[i]=Nodes[i].x\n",
    "    yy[i]=Nodes[i].y\n",
    "    zz[i]=Nodes[i].z\n",
    "\n",
    "xmax=max(xx)\n",
    "ymax=max(yy)\n",
    "zmax=max(zz)\n",
    "print(xmax)\n",
    "\n",
    "xmin=min(xx)\n",
    "ymin=min(yy)\n",
    "zmin=min(zz)\n",
    "print(ymin)\n",
    "\n",
    "xc=(xmax+xmin)/2\n",
    "yc=(ymax+ymin)/2\n",
    "zc=(zmax+zmin)/2\n",
    "\n",
    "dx=(xmax-xc)*1.2\n",
    "xmax=xc+dx\n",
    "xmin=xc-dx\n",
    "dy=(ymax-yc)*1.2\n",
    "ymax=yc+dy\n",
    "ymin=yc-dy\n",
    "dz=(zmax-zc)*1.2\n",
    "zmax=zc+dz\n",
    "zmin=zc-dz\n",
    "\n",
    "\n",
    "cubeAxesActor = vp.vtk.vtkCubeAxesActor()\n",
    "cubeAxesActor.SetBounds(xmin,xmax,ymin,ymax,zmin,zmax)\n",
    "#cubeAxesActor.SetCamera(vp.ren.GetActiveCamera())\n",
    "#vp.ren.ResetCamera()\n",
    "vp.ren.AddActor(CubeAxesActor);\n",
    "vp.plot_roots(rs, \"creationTime\")\n",
    "\n",
    "\n",
    "#limits = 'no' # dat sem nalezena maxima z Nodes[] ..."
   ]
  },
  {
   "cell_type": "markdown",
   "metadata": {},
   "source": [
    "#### Oblibene IPython magics"
   ]
  },
  {
   "cell_type": "code",
   "execution_count": null,
   "metadata": {},
   "outputs": [],
   "source": [
    "%%writefile\n",
    "%pycat\n",
    "%load"
   ]
  },
  {
   "cell_type": "code",
   "execution_count": null,
   "metadata": {},
   "outputs": [],
   "source": [
    "%% magicwords help"
   ]
  },
  {
   "cell_type": "code",
   "execution_count": null,
   "metadata": {},
   "outputs": [],
   "source": [
    "%pycat example1_LAB200811_multiple.py"
   ]
  },
  {
   "cell_type": "markdown",
   "metadata": {},
   "source": [
    "## WIP"
   ]
  },
  {
   "cell_type": "code",
   "execution_count": 70,
   "metadata": {},
   "outputs": [
    {
     "ename": "KeyboardInterrupt",
     "evalue": "",
     "output_type": "error",
     "traceback": [
      "\u001b[0;31m---------------------------------------------------------------------------\u001b[0m",
      "\u001b[0;31mKeyboardInterrupt\u001b[0m                         Traceback (most recent call last)",
      "\u001b[0;32m<ipython-input-70-dfa65ccf6857>\u001b[0m in \u001b[0;36m<module>\u001b[0;34m\u001b[0m\n\u001b[1;32m     59\u001b[0m       \u001b[0mana\u001b[0m\u001b[0;34m.\u001b[0m\u001b[0maddSegments\u001b[0m\u001b[0;34m(\u001b[0m\u001b[0mrs\u001b[0m\u001b[0;34m)\u001b[0m  \u001b[0;31m# collect all\u001b[0m\u001b[0;34m\u001b[0m\u001b[0;34m\u001b[0m\u001b[0m\n\u001b[1;32m     60\u001b[0m \u001b[0;34m\u001b[0m\u001b[0m\n\u001b[0;32m---> 61\u001b[0;31m \u001b[0mvp\u001b[0m\u001b[0;34m.\u001b[0m\u001b[0mplot_roots\u001b[0m\u001b[0;34m(\u001b[0m\u001b[0mana\u001b[0m\u001b[0;34m,\u001b[0m \u001b[0;34m'subType'\u001b[0m\u001b[0;34m,\u001b[0m \u001b[0;34m\"Multiple Hydro\"\u001b[0m\u001b[0;34m,\u001b[0m \u001b[0;32mTrue\u001b[0m\u001b[0;34m)\u001b[0m \u001b[0;31m# misto creationTime muze byt napr. subType ...\u001b[0m\u001b[0;34m\u001b[0m\u001b[0;34m\u001b[0m\u001b[0m\n\u001b[0m\u001b[1;32m     62\u001b[0m \u001b[0;34m\u001b[0m\u001b[0m\n",
      "\u001b[0;32m~/github/CPlantBox/tutorial/examples/python/vtk_plot.py\u001b[0m in \u001b[0;36mplot_roots\u001b[0;34m(pd, p_name, win_title, render)\u001b[0m\n\u001b[1;32m    312\u001b[0m \u001b[0;34m\u001b[0m\u001b[0m\n\u001b[1;32m    313\u001b[0m     \u001b[0;32mif\u001b[0m \u001b[0mrender\u001b[0m\u001b[0;34m:\u001b[0m\u001b[0;34m\u001b[0m\u001b[0;34m\u001b[0m\u001b[0m\n\u001b[0;32m--> 314\u001b[0;31m         \u001b[0mrender_window\u001b[0m\u001b[0;34m(\u001b[0m\u001b[0mplantActor\u001b[0m\u001b[0;34m,\u001b[0m \u001b[0mwin_title\u001b[0m\u001b[0;34m,\u001b[0m \u001b[0mscalar_bar\u001b[0m\u001b[0;34m,\u001b[0m \u001b[0mpd\u001b[0m\u001b[0;34m.\u001b[0m\u001b[0mGetBounds\u001b[0m\u001b[0;34m(\u001b[0m\u001b[0;34m)\u001b[0m\u001b[0;34m)\u001b[0m\u001b[0;34m.\u001b[0m\u001b[0mStart\u001b[0m\u001b[0;34m(\u001b[0m\u001b[0;34m)\u001b[0m\u001b[0;34m\u001b[0m\u001b[0;34m\u001b[0m\u001b[0m\n\u001b[0m\u001b[1;32m    315\u001b[0m     \u001b[0;32mreturn\u001b[0m \u001b[0mplantActor\u001b[0m\u001b[0;34m,\u001b[0m \u001b[0mscalar_bar\u001b[0m\u001b[0;34m\u001b[0m\u001b[0;34m\u001b[0m\u001b[0m\n\u001b[1;32m    316\u001b[0m \u001b[0;34m\u001b[0m\u001b[0m\n",
      "\u001b[0;31mKeyboardInterrupt\u001b[0m: "
     ]
    }
   ],
   "source": [
    "#%%writefile example1_LAB201006_multiple_hydrotropism_Nov21.py\n",
    "\"\"\"hydrotropism in a middle of a two plants\"\"\"\n",
    "import sys; sys.path.append(\"../../..\")\n",
    "import plantbox as pb\n",
    "import vtk_plot as vp\n",
    "\n",
    "rs = pb.RootSystem()\n",
    "path = \"../../../modelparameter/rootsystem/\"\n",
    "name = [\"RootLab/LabMod_Bush\", \"Juncus_squarrosus_Clausnitzer_1994\", \"RootLab/LabMod_Bush\", \"RootLab/LabMod_Bush\"]\n",
    "\n",
    "# Static soil property in a thin layer\n",
    "maxS = 5  # maximal\n",
    "minS = 0.5  # minimal\n",
    "slope = 10  # linear gradient between min and max (cm), half length of linear interpolation between fmax and fmin\n",
    "box = pb.SDF_PlantBox(200, 200, 30)  # cm\n",
    "layer = pb.SDF_RotateTranslate(box, pb.Vector3d(0, 0, 10))\n",
    "soil_prop = pb.SoilLookUpSDF(layer, maxS, minS, slope)\n",
    "\n",
    "C = 1   # number of columns\n",
    "R = 1   # and rows\n",
    "dist = 35  # distance between the root systems [cm]\n",
    "\n",
    "# Initializes C*R root systems\n",
    "allRS = []\n",
    "for i in range(0, C):\n",
    "    for j in range(0, R):\n",
    "        rs = pb.RootSystem()\n",
    "        rs.readParameters(path + name[i] + \".xml\")\n",
    "        # Manually set tropism to hydrotropism for the first six root types\n",
    "        #sigma = [0.05, 0.3, 0.5, 0.6]\n",
    "        #tropN = [0.7, 0.8, 1.0, 1.0] # *2 strength of tropism\n",
    "        #RootLifeTime = [50, 40, 40, 30]\n",
    "        #for p in rs.getRootRandomParameter():\n",
    "            #p.dx = 0.5  # adjust resolution\n",
    "            #p.tropismT = pb.TropismType.hydro\n",
    "            #p.tropismN = tropN[p.subType - 1]  # strength of tropism\n",
    "            #p.tropismS = sigma[p.subType - 1]\n",
    "            #p.rlt = RootLifeTime[i]\n",
    "            \n",
    "        rs.getRootSystemParameter().seedPos = pb.Vector3d(dist * i - (dist/2), dist * j, -4.)  # cm\n",
    "        rs.setSoil(soil_prop) # Set the soil properties before calling initialize\n",
    "        rs.initialize(False)  # verbose = False\n",
    "        allRS.append(rs)\n",
    "        \n",
    "# Simulate dynamically\n",
    "simtime = 90  # e.g. 30 or 60 days\n",
    "dt = 1\n",
    "N = round(simtime / dt)\n",
    "for _ in range(0, N):\n",
    "    for rs in allRS:\n",
    "        ## in a dynamic soil setting you would need to update the soil properties (soil_prop)\n",
    "        rs.simulate(dt, True)\n",
    "    \n",
    "# Export results as single vtp files (as polylines)\n",
    "ana = pb.SegmentAnalyser()  # see example 3b\n",
    "for i, rs in enumerate(allRS):\n",
    "      vtpname = \"resultsLAB/RLab_201208_Bush\" + str(i) + \".vtp\"\n",
    "      rs.write(vtpname)\n",
    "      ana.addSegments(rs)  # collect all\n",
    "    \n",
    "vp.plot_roots(ana, 'subType', \"Multiple Hydro\", True) # misto creationTime muze byt napr. subType ...\n",
    "\n"
   ]
  },
  {
   "cell_type": "code",
   "execution_count": 72,
   "metadata": {
    "scrolled": true
   },
   "outputs": [
    {
     "name": "stdout",
     "output_type": "stream",
     "text": [
      "NVIDIA-SMI has failed because it couldn't communicate with the NVIDIA driver. Make sure that the latest NVIDIA driver is installed and running.\r\n",
      "\r\n"
     ]
    }
   ],
   "source": [
    "!nvidia-smi"
   ]
  },
  {
   "cell_type": "code",
   "execution_count": 8,
   "metadata": {},
   "outputs": [
    {
     "name": "stdout",
     "output_type": "stream",
     "text": [
      "[0.5, 1.0, 2.0, 0.5, 1.0, 2.0]\n"
     ]
    }
   ],
   "source": [
    "N = [0.5, 1., 2.] * 2\n",
    "print(N)"
   ]
  },
  {
   "cell_type": "markdown",
   "metadata": {},
   "source": [
    "# odkladiste"
   ]
  },
  {
   "cell_type": "code",
   "execution_count": null,
   "metadata": {
    "scrolled": true
   },
   "outputs": [],
   "source": [
    "        \n",
    "# Simulate dynamically\n",
    "simtime = 25  # e.g. 30 or 60 days\n",
    "dt = 1\n",
    "N = round(simtime / dt)\n",
    "for _ in range(0, N):\n",
    "    for rs in allRS:\n",
    "        ## in a dynamic soil setting you would need to update the soil properties (soil_prop)\n",
    "        rs.simulate(dt, True)\n",
    "\n",
    "# Simulate\n",
    "for rs in allRS:\n",
    "    rs.simulate(simtime, True)  # verbose = False\n",
    "\n",
    "\n",
    "# Export results as single vtp files (as polylines)\n",
    "ana = pb.SegmentAnalyser()  # see example 3b\n",
    "for i, rs in enumerate(allRS):\n",
    "      vtpname = \"results/example_LAB_multiple_hydrotrop\" + str(i) + \".vtp\"\n",
    "#      rs.write(vtpname)\n",
    "      ana.addSegments(rs)  # collect all\n",
    "\n",
    "# Plot, using vtk\n",
    "#vp.plot_roots(rs, 'subType', 'oblique', True)\n",
    "vp.plot_roots(ana, 'subType', \"Multiple Hydro\", True)\n",
    "\n",
    "# testujeme kod\n",
    "# print(pb.SoilLookUpSDF)"
   ]
  },
  {
   "cell_type": "code",
   "execution_count": null,
   "metadata": {},
   "outputs": [],
   "source": [
    "# %load example4a_hydrotropism.py\n",
    "\"\"\"hydrotropism in a thin layer\"\"\"\n",
    "import sys; sys.path.append(\"../../..\")\n",
    "import plantbox as pb\n",
    "import vtk_plot as vp\n",
    "\n",
    "rs = pb.RootSystem()\n",
    "path = \"../../../modelparameter/rootsystem/\"\n",
    "name = \"Anagallis_femina_Leitner_2010\"\n",
    "rs.readParameters(path + name + \".xml\")\n",
    "\n",
    "# Manually set tropism to hydrotropism for the first ten root types\n",
    "sigma = [0.4, 1., 1., 1., 1. ] * 2\n",
    "for p in rs.getRootRandomParameter():\n",
    "        p.dx = 0.25  # adjust resolution\n",
    "        p.tropismT = pb.TropismType.hydro\n",
    "        p.tropismN = 2  # strength of tropism\n",
    "        p.tropismS = sigma[p.subType - 1]\n",
    "\n",
    "# Static soil property in a thin layer\n",
    "maxS = 0.7  # maximal\n",
    "minS = 0.1  # minimal\n",
    "slope = 5  # linear gradient between min and max (cm)\n",
    "box = pb.SDF_PlantBox(30, 30, 2)  # cm\n",
    "layer = pb.SDF_RotateTranslate(box, pb.Vector3d(0, 0, -16))\n",
    "soil_prop = pb.SoilLookUpSDF(layer, maxS, minS, slope)\n",
    "\n",
    "# Set the soil properties before calling initialize\n",
    "rs.setSoil(soil_prop)\n",
    "\n",
    "# Initialize\n",
    "rs.initialize()\n",
    "\n",
    "# Simulate\n",
    "simtime = 100  # e.g. 30 or 60 days\n",
    "dt = 1\n",
    "N = round(simtime / dt)\n",
    "for _ in range(0, N):\n",
    "    # in a dynamic soil setting you would need to update the soil properties (soil_prop)\n",
    "    rs.simulate(dt)\n",
    "\n",
    "# Plot, using vtk\n",
    "vp.plot_roots(rs, \"type\", 'oblique', True)\n"
   ]
  },
  {
   "cell_type": "code",
   "execution_count": 10,
   "metadata": {},
   "outputs": [],
   "source": [
    "import time\n",
    "time.sleep(3)"
   ]
  },
  {
   "cell_type": "code",
   "execution_count": 24,
   "metadata": {},
   "outputs": [
    {
     "data": {
      "text/plain": [
       "'Hello, Stepan!'"
      ]
     },
     "execution_count": 24,
     "metadata": {},
     "output_type": "execute_result"
    }
   ],
   "source": [
    "# nacvik definice funkce\n",
    "def say_hello(recipient):\n",
    "    return 'Hello, {}!'.format(recipient)\n",
    "\n",
    "say_hello('Stepan')"
   ]
  },
  {
   "cell_type": "code",
   "execution_count": 11,
   "metadata": {},
   "outputs": [
    {
     "name": "stdout",
     "output_type": "stream",
     "text": [
      "25\n"
     ]
    }
   ],
   "source": [
    "import numpy as np\n",
    "def square(x):\n",
    "    return x * x\n",
    "\n",
    "print(square(5))"
   ]
  },
  {
   "cell_type": "code",
   "execution_count": 24,
   "metadata": {},
   "outputs": [
    {
     "name": "stdout",
     "output_type": "stream",
     "text": [
      "2 squared is 4 a muj test 15\n"
     ]
    }
   ],
   "source": [
    "x = np.random.randint(1, 10)\n",
    "y = square(x)\n",
    "z = 15\n",
    "print('%d squared is %d a muj test %d' % (x, y, z))"
   ]
  },
  {
   "cell_type": "code",
   "execution_count": 6,
   "metadata": {},
   "outputs": [
    {
     "ename": "NameError",
     "evalue": "name 'x' is not defined",
     "output_type": "error",
     "traceback": [
      "\u001b[0;31m---------------------------------------------------------------------------\u001b[0m",
      "\u001b[0;31mNameError\u001b[0m                                 Traceback (most recent call last)",
      "\u001b[0;32m<ipython-input-6-35f04e1abfc1>\u001b[0m in \u001b[0;36m<module>\u001b[0;34m\u001b[0m\n\u001b[1;32m      1\u001b[0m \u001b[0my\u001b[0m \u001b[0;34m=\u001b[0m \u001b[0;36m10\u001b[0m\u001b[0;34m\u001b[0m\u001b[0;34m\u001b[0m\u001b[0m\n\u001b[0;32m----> 2\u001b[0;31m \u001b[0mprint\u001b[0m\u001b[0;34m(\u001b[0m\u001b[0;34m'Is %d squared %d?'\u001b[0m \u001b[0;34m%\u001b[0m \u001b[0;34m(\u001b[0m\u001b[0mx\u001b[0m\u001b[0;34m,\u001b[0m \u001b[0my\u001b[0m\u001b[0;34m)\u001b[0m\u001b[0;34m)\u001b[0m\u001b[0;34m\u001b[0m\u001b[0;34m\u001b[0m\u001b[0m\n\u001b[0m",
      "\u001b[0;31mNameError\u001b[0m: name 'x' is not defined"
     ]
    }
   ],
   "source": [
    "y = 10\n",
    "print('Is %d squared %d?' % (x, y))"
   ]
  },
  {
   "cell_type": "code",
   "execution_count": 2,
   "metadata": {},
   "outputs": [
    {
     "name": "stdout",
     "output_type": "stream",
     "text": [
      "Hello, Paul. Good morning!\n"
     ]
    }
   ],
   "source": [
    "def greet(name):\n",
    "    \"\"\"\n",
    "    This function greets to\n",
    "    the person passed in as\n",
    "    a parameter\n",
    "    \"\"\"\n",
    "    print(\"Hello, \" + name + \". Good morning!\")\n",
    "\n",
    "greet('Paul')"
   ]
  }
 ],
 "metadata": {
  "kernelspec": {
   "display_name": "Python 3",
   "language": "python",
   "name": "python3"
  },
  "language_info": {
   "codemirror_mode": {
    "name": "ipython",
    "version": 3
   },
   "file_extension": ".py",
   "mimetype": "text/x-python",
   "name": "python",
   "nbconvert_exporter": "python",
   "pygments_lexer": "ipython3",
   "version": "3.7.7"
  }
 },
 "nbformat": 4,
 "nbformat_minor": 4
}
