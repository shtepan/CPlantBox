{
 "cells": [
  {
   "cell_type": "code",
   "execution_count": 38,
   "metadata": {
    "scrolled": false
   },
   "outputs": [
    {
     "name": "stdout",
     "output_type": "stream",
     "text": [
      "Datum je dnes 210212 \n",
      "\n",
      "6 nodes\n",
      "4 segments\n",
      "11 nodes\n",
      "9 segments\n",
      "25 nodes\n",
      "23 segments\n",
      "108 nodes\n",
      "106 segments\n",
      "275 nodes\n",
      "273 segments\n",
      "499 nodes\n",
      "497 segments\n",
      "752 nodes\n",
      "750 segments\n",
      "1024 nodes\n",
      "1022 segments\n",
      "1297 nodes\n",
      "1295 segments\n",
      "DONE\n"
     ]
    }
   ],
   "source": [
    "# makame na TASKu :)\n",
    "\"\"\"small example\"\"\"\n",
    "import sys\n",
    "sys.path.append(\"../../..\"); sys.path.append(\"../../../src/python_modules\")\n",
    "import os             # knihovna zpristupnuje operace se soubory - tady konkretne nacteni nazvu z adresare\n",
    "import plantbox as pb\n",
    "import vtk_plot as vp\n",
    "from datetime import date\n",
    "\n",
    "rs = pb.RootSystem()\n",
    "\n",
    "# Open plant and root parameter from a file\n",
    "path = \"../../../modelparameter/rootsystem/\" \n",
    "name = \"workshop\"             # POZOR, rostlina:), napr. Lupinus_angustifolius_Chen_2011\n",
    "rs.readParameters(path + name + \".xml\")\n",
    "\n",
    "# Initializeo\n",
    "rs.initialize()\n",
    "\n",
    "# yymmdd\n",
    "today = date.today()\n",
    "date = today.strftime(\"%y%m%d\")\n",
    "print(\"Datum je dnes\", date, \"\\n\")\n",
    "\n",
    "# Simulate\n",
    "for i in range(1, 10, 1):\n",
    "    rs.simulate(i, True)\n",
    "    print(rs.getNumberOfNodes(), \"nodes\")\n",
    "    print(rs.getNumberOfSegments(), \"segments\")\n",
    "#    vp.plot_roots(rs, \"creationTime\")\n",
    "    # writeout\n",
    "    vtpname = \"resultsLAB/RLab_\" + str(date) + \"_\" + name + \"_\" + str(i) + \"denni.vtp\"\n",
    "    rs.write(vtpname)\n",
    "else:\n",
    "    print(\"DONE\")"
   ]
  },
  {
   "cell_type": "code",
   "execution_count": 37,
   "metadata": {},
   "outputs": [
    {
     "name": "stdout",
     "output_type": "stream",
     "text": [
      "Writing README-Magnitude.txt\n"
     ]
    }
   ],
   "source": [
    "%%writefile README-Magnitude.txt\n",
    "\n",
    "'Anagallis_femina_Leitner_2010.xml', **prvni 3** < 1000 nodes\n",
    "---- Bench_lupin.xml', 'Bench_maize.xml',\n",
    "'Brassica_napus_a_Leitner_2010.xml', **prvnich 6** < 1000 nodes\n",
    "'Brassica_oleracea_Vansteenkiste_2014.xml', **prvnich 4** < 1000 nodes\n",
    "'Crypsis_aculeata_Clausnitzer_1994.xml', **prvni 3** < 1000 nodes\n",
    "'Glycine_max.xml', **prvni 2** < 1000 nodes\n",
    "'Heliantus_Pagès_2013.xml', **prvni 4** < 1000 nodes\n",
    "'Juncus_squarrosus_Clausnitzer_1994.xml', **prvni 2** < 1000 nodes\n",
    "'Lupinus_albus_Leitner_2014.xml', **prvnich 5**\n",
    "'Lupinus_angustifolius_Chen_2011.xml', **vsechny=42** < 1000 nodes\n",
    "'Medicago_truncatula_Postma_2011.xml', **prvni 2**\n",
    "'Noccaea_Pagès_2013.xml', **prvnich 8**\n",
    "'Pisum_sativum_a_Pagès_2014.xml', **prvnich 6**\n",
    "'Pisum_sativum_b_TSEGAYE_1995.xml', **prvnich 6**\n",
    "'Pisum_sativum_c_TSEGAYE_1995.xml', **prvnich 6**\n",
    "'Pisum_sativum_d_TSEGAYE_1995.xml', **prvnich 6**\n",
    "'Triticum_aestivum_a_Bingham_2011.xml',  **prvni 2**\n",
    "'Zea_mays_1_Leitner_2010.xml', **prvni 1**\n",
    "'Zea_mays_2_Pagès_2014.xml', **prvni 2**\n",
    "'Zea_mays_3_Postma_2011.xml', **prvni 2**\n",
    "'Zea_mays_4_Leitner_2014.xml', **prvnich 6**\n",
    "'Zea_mays_5_Leitner_2014.xml', **prvnich 6**\n",
    "'Zea_mays_6_Leitner_2014.xml', **prvnich 7**\n",
    "'maize.xml', **prvni 1**\n",
    "'maize_p1.xml', **prvnich 6**\n",
    "'maize_p1_zero_std.xml', **prvnich 6**\n",
    "'maize_p2.xml', **prvnich 6**\n",
    "'maize_p2_zero_std.xml', **prvnich 6** \n",
    "'maize_p3.xml', **prvnich 7**\n",
    "'maize_p3_zero_std.xml', **prvnich 6** \n",
    "'virtual.xml', **do nekonecna**\n",
    "'wheat.xml', **prvni 3** \n",
    "'wheat_zero_std.xml', **prvnich 5**\n",
    "'workshop.xml', **prvnich 7**"
   ]
  },
  {
   "cell_type": "code",
   "execution_count": null,
   "metadata": {},
   "outputs": [],
   "source": [
    "print(rs.getNumberOfNodes(), \"nodes\")\n",
    "print(rs.getNumberOfSegments(), \"segments\")\n",
    "#print(dir(rs))\n",
    "\n",
    "files = os.listdir(path)  # path je definovan vyse\n",
    "files.sort()\n",
    "print(files)\n",
    "\n",
    "#print(rs.getSeedRandomParameter().simulationTime)   # nefunguje\n",
    "\n",
    "print(rs.getRootRandomParameter(0))\n",
    "print(rs.getRootRandomParameter(1))\n",
    "print(rs.getRootRandomParameter(2))"
   ]
  },
  {
   "cell_type": "code",
   "execution_count": null,
   "metadata": {},
   "outputs": [],
   "source": [
    "\"\"\"find root tips and bases (two approaches)\"\"\"\n",
    "import sys\n",
    "sys.path.append(\"../../..\"); sys.path.append(\"../../../src/python_modules\")\n",
    "import plantbox as pb\n",
    "\n",
    "import numpy as np\n",
    "import matplotlib.pyplot as plt\n",
    "\n",
    "path = \"../../../modelparameter/rootsystem/\"\n",
    "name = \"Pisum_sativum_a_Pagès_2014\"\n",
    "\n",
    "rs = pb.RootSystem()\n",
    "rs.readParameters(path + name + \".xml\")\n",
    "rs.initialize()\n",
    "rs.simulate(16, True)\n",
    "\n",
    "print(rs.getNumberOfNodes(), \"nodes\")\n",
    "print(rs.getNumberOfSegments(), \"segments\")\n",
    "\n",
    "# Use polyline representation of the roots\n",
    "polylines = rs.getPolylines()\n",
    "bases = np.zeros((len(polylines), 3))\n",
    "tips = np.zeros((len(polylines), 3))\n",
    "for i, r in enumerate(polylines):\n",
    "    bases[i, :] = [r[0].x, r[0].y, r[0].z]  # first index is the base\n",
    "    tips[i, :] = [r[-1].x, r[-1].y, r[-1].z]  # last index is the tip\n",
    "\n",
    "# Or, use node indices to find tip or base nodes\n",
    "nodes = np.array((list(map(np.array, rs.getNodes()))))\n",
    "tipI = rs.getRootTips()\n",
    "baseI = rs.getRootBases()\n",
    "\n",
    "# Plot results (1st approach)\n",
    "plt.title(\"Top view\")\n",
    "plt.xlabel(\"cm\")\n",
    "plt.ylabel(\"cm\")\n",
    "plt.scatter(nodes[baseI, 0], nodes[baseI, 1], c = \"g\", label = \"root bases\")\n",
    "plt.scatter(nodes[tipI, 0], nodes[tipI, 1], c = \"r\", label = \"root tips\")\n",
    "plt.legend()\n",
    "#plt.savefig(\"results/example_2e.png\")\n",
    "plt.show()\n",
    "\n",
    " # check if the two approaches yield the same result\n",
    "uneq = np.sum(nodes[baseI, :] != bases) + np.sum(nodes[tipI, :] != tips)\n",
    "print(\"Unequal tips and basals:\", uneq)\n"
   ]
  },
  {
   "cell_type": "code",
   "execution_count": null,
   "metadata": {},
   "outputs": [],
   "source": [
    "from datetime import date\n",
    "\n",
    "today = date.today()\n",
    "# mm/dd/y\n",
    "d3 = today.strftime(\"%m/%d/%y\")\n",
    "print(\"d3 =\", d3)"
   ]
  },
  {
   "cell_type": "code",
   "execution_count": null,
   "metadata": {
    "scrolled": true
   },
   "outputs": [],
   "source": [
    "# Export final result (as vtp)\n",
    "#rs.write(\"resultsLAB/RLab201012_Heliantus_Pagès_2013.vtp\")\n",
    "\n",
    "# Export final result as rsml \n",
    "# nefunguje - vt.write_rsml(\"resultsLAB/Triticum_aestivum_LAB201006.rsml\", rs, \"meta\")\n",
    "# FUNGUJE - rs.write(\"resultsLAB/test.rsml\")\n",
    "\n",
    "# Plot, using vtk\n",
    "#vp.plot_roots(rs, \"creationTime\")\n",
    "# cubeAxesActor = vtk.vtkCubeAxesActor()\n",
    "# cubeAxesActor.SetBounds(rs.GetOutput().GetBounds())\n",
    "# cubeAxesActor.SetCamera(renderer.GetActiveCamera())\n",
    "\n",
    "#help(rs.getNodes())\n",
    "#dir(rs)\n",
    "#print(rs.getNodes())\n",
    "Nodes = rs.getNodes() # \n",
    "#print(Nodes[9].y)\n",
    "\n",
    "# ve vtk_plpot jako BOUNDS\n",
    "nNodes=len(Nodes)\n",
    "\n",
    "xx=[0] * nNodes\n",
    "yy=[0] * nNodes\n",
    "zz=[0] * nNodes\n",
    "for i in range(0, nNodes):\n",
    "    xx[i]=Nodes[i].x\n",
    "    yy[i]=Nodes[i].y\n",
    "    zz[i]=Nodes[i].z\n",
    "\n",
    "xmax=max(xx)\n",
    "ymax=max(yy)\n",
    "zmax=max(zz)\n",
    "print(xmax)\n",
    "\n",
    "xmin=min(xx)\n",
    "ymin=min(yy)\n",
    "zmin=min(zz)\n",
    "print(ymin)\n",
    "\n",
    "xc=(xmax+xmin)/2\n",
    "yc=(ymax+ymin)/2\n",
    "zc=(zmax+zmin)/2\n",
    "\n",
    "dx=(xmax-xc)*1.2\n",
    "xmax=xc+dx\n",
    "xmin=xc-dx\n",
    "dy=(ymax-yc)*1.2\n",
    "ymax=yc+dy\n",
    "ymin=yc-dy\n",
    "dz=(zmax-zc)*1.2\n",
    "zmax=zc+dz\n",
    "zmin=zc-dz\n",
    "\n",
    "\n",
    "cubeAxesActor = vp.vtk.vtkCubeAxesActor()\n",
    "cubeAxesActor.SetBounds(xmin,xmax,ymin,ymax,zmin,zmax)\n",
    "#cubeAxesActor.SetCamera(vp.ren.GetActiveCamera())\n",
    "#vp.ren.ResetCamera()\n",
    "vp.ren.AddActor(CubeAxesActor);\n",
    "vp.plot_roots(rs, \"creationTime\")\n",
    "\n",
    "\n",
    "#limits = 'no' # dat sem nalezena maxima z Nodes[] ..."
   ]
  },
  {
   "cell_type": "markdown",
   "metadata": {},
   "source": [
    "#### Oblibene IPython magics"
   ]
  },
  {
   "cell_type": "code",
   "execution_count": null,
   "metadata": {},
   "outputs": [],
   "source": [
    "%%writefile\n",
    "%pycat\n",
    "%load"
   ]
  },
  {
   "cell_type": "code",
   "execution_count": null,
   "metadata": {},
   "outputs": [],
   "source": [
    "%% magicwords help"
   ]
  },
  {
   "cell_type": "code",
   "execution_count": null,
   "metadata": {},
   "outputs": [],
   "source": [
    "%pycat example1_LAB200811_multiple.py"
   ]
  },
  {
   "cell_type": "markdown",
   "metadata": {},
   "source": [
    "## WIP"
   ]
  },
  {
   "cell_type": "code",
   "execution_count": null,
   "metadata": {},
   "outputs": [],
   "source": [
    "#%%writefile example1_LAB201006_multiple_hydrotropism_Nov21.py\n",
    "\"\"\"hydrotropism in a middle of a two plants\"\"\"\n",
    "import sys; sys.path.append(\"../../..\")\n",
    "import plantbox as pb\n",
    "import vtk_plot as vp\n",
    "\n",
    "rs = pb.RootSystem()\n",
    "path = \"../../../modelparameter/rootsystem/\"\n",
    "name = [\"RootLab/LabMod_Bush\", \"Juncus_squarrosus_Clausnitzer_1994\", \"RootLab/LabMod_Bush\", \"RootLab/LabMod_Bush\"]\n",
    "\n",
    "# Static soil property in a thin layer\n",
    "maxS = 5  # maximal\n",
    "minS = 0.5  # minimal\n",
    "slope = 10  # linear gradient between min and max (cm), half length of linear interpolation between fmax and fmin\n",
    "box = pb.SDF_PlantBox(200, 200, 30)  # cm\n",
    "layer = pb.SDF_RotateTranslate(box, pb.Vector3d(0, 0, 10))\n",
    "soil_prop = pb.SoilLookUpSDF(layer, maxS, minS, slope)\n",
    "\n",
    "C = 1   # number of columns\n",
    "R = 1   # and rows\n",
    "dist = 35  # distance between the root systems [cm]\n",
    "\n",
    "# Initializes C*R root systems\n",
    "allRS = []\n",
    "for i in range(0, C):\n",
    "    for j in range(0, R):\n",
    "        rs = pb.RootSystem()\n",
    "        rs.readParameters(path + name[i] + \".xml\")\n",
    "        # Manually set tropism to hydrotropism for the first six root types\n",
    "        #sigma = [0.05, 0.3, 0.5, 0.6]\n",
    "        #tropN = [0.7, 0.8, 1.0, 1.0] # *2 strength of tropism\n",
    "        #RootLifeTime = [50, 40, 40, 30]\n",
    "        #for p in rs.getRootRandomParameter():\n",
    "            #p.dx = 0.5  # adjust resolution\n",
    "            #p.tropismT = pb.TropismType.hydro\n",
    "            #p.tropismN = tropN[p.subType - 1]  # strength of tropism\n",
    "            #p.tropismS = sigma[p.subType - 1]\n",
    "            #p.rlt = RootLifeTime[i]\n",
    "            \n",
    "        rs.getRootSystemParameter().seedPos = pb.Vector3d(dist * i - (dist/2), dist * j, -4.)  # cm\n",
    "        rs.setSoil(soil_prop) # Set the soil properties before calling initialize\n",
    "        rs.initialize(False)  # verbose = False\n",
    "        allRS.append(rs)\n",
    "        \n",
    "# Simulate dynamically\n",
    "simtime = 90  # e.g. 30 or 60 days\n",
    "dt = 1\n",
    "N = round(simtime / dt)\n",
    "for _ in range(0, N):\n",
    "    for rs in allRS:\n",
    "        ## in a dynamic soil setting you would need to update the soil properties (soil_prop)\n",
    "        rs.simulate(dt, True)\n",
    "    \n",
    "# Export results as single vtp files (as polylines)\n",
    "ana = pb.SegmentAnalyser()  # see example 3b\n",
    "for i, rs in enumerate(allRS):\n",
    "      vtpname = \"resultsLAB/RLab_201208_Bush\" + str(i) + \".vtp\"\n",
    "      rs.write(vtpname)\n",
    "      ana.addSegments(rs)  # collect all\n",
    "    \n",
    "vp.plot_roots(ana, 'subType', \"Multiple Hydro\", True) # misto creationTime muze byt napr. subType ...\n",
    "\n"
   ]
  },
  {
   "cell_type": "code",
   "execution_count": null,
   "metadata": {
    "scrolled": true
   },
   "outputs": [],
   "source": [
    "!nvidia-smi"
   ]
  },
  {
   "cell_type": "code",
   "execution_count": null,
   "metadata": {},
   "outputs": [],
   "source": [
    "N = [0.5, 1., 2.] * 2\n",
    "print(N)"
   ]
  },
  {
   "cell_type": "markdown",
   "metadata": {},
   "source": [
    "# odkladiste"
   ]
  },
  {
   "cell_type": "code",
   "execution_count": null,
   "metadata": {
    "scrolled": true
   },
   "outputs": [],
   "source": [
    "        \n",
    "# Simulate dynamically\n",
    "simtime = 25  # e.g. 30 or 60 days\n",
    "dt = 1\n",
    "N = round(simtime / dt)\n",
    "for _ in range(0, N):\n",
    "    for rs in allRS:\n",
    "        ## in a dynamic soil setting you would need to update the soil properties (soil_prop)\n",
    "        rs.simulate(dt, True)\n",
    "\n",
    "# Simulate\n",
    "for rs in allRS:\n",
    "    rs.simulate(simtime, True)  # verbose = False\n",
    "\n",
    "\n",
    "# Export results as single vtp files (as polylines)\n",
    "ana = pb.SegmentAnalyser()  # see example 3b\n",
    "for i, rs in enumerate(allRS):\n",
    "      vtpname = \"results/example_LAB_multiple_hydrotrop\" + str(i) + \".vtp\"\n",
    "#      rs.write(vtpname)\n",
    "      ana.addSegments(rs)  # collect all\n",
    "\n",
    "# Plot, using vtk\n",
    "#vp.plot_roots(rs, 'subType', 'oblique', True)\n",
    "vp.plot_roots(ana, 'subType', \"Multiple Hydro\", True)\n",
    "\n",
    "# testujeme kod\n",
    "# print(pb.SoilLookUpSDF)"
   ]
  },
  {
   "cell_type": "code",
   "execution_count": null,
   "metadata": {},
   "outputs": [],
   "source": [
    "# %load example4a_hydrotropism.py\n",
    "\"\"\"hydrotropism in a thin layer\"\"\"\n",
    "import sys; sys.path.append(\"../../..\")\n",
    "import plantbox as pb\n",
    "import vtk_plot as vp\n",
    "\n",
    "rs = pb.RootSystem()\n",
    "path = \"../../../modelparameter/rootsystem/\"\n",
    "name = \"Anagallis_femina_Leitner_2010\"\n",
    "rs.readParameters(path + name + \".xml\")\n",
    "\n",
    "# Manually set tropism to hydrotropism for the first ten root types\n",
    "sigma = [0.4, 1., 1., 1., 1. ] * 2\n",
    "for p in rs.getRootRandomParameter():\n",
    "        p.dx = 0.25  # adjust resolution\n",
    "        p.tropismT = pb.TropismType.hydro\n",
    "        p.tropismN = 2  # strength of tropism\n",
    "        p.tropismS = sigma[p.subType - 1]\n",
    "\n",
    "# Static soil property in a thin layer\n",
    "maxS = 0.7  # maximal\n",
    "minS = 0.1  # minimal\n",
    "slope = 5  # linear gradient between min and max (cm)\n",
    "box = pb.SDF_PlantBox(30, 30, 2)  # cm\n",
    "layer = pb.SDF_RotateTranslate(box, pb.Vector3d(0, 0, -16))\n",
    "soil_prop = pb.SoilLookUpSDF(layer, maxS, minS, slope)\n",
    "\n",
    "# Set the soil properties before calling initialize\n",
    "rs.setSoil(soil_prop)\n",
    "\n",
    "# Initialize\n",
    "rs.initialize()\n",
    "\n",
    "# Simulate\n",
    "simtime = 100  # e.g. 30 or 60 days\n",
    "dt = 1\n",
    "N = round(simtime / dt)\n",
    "for _ in range(0, N):\n",
    "    # in a dynamic soil setting you would need to update the soil properties (soil_prop)\n",
    "    rs.simulate(dt)\n",
    "\n",
    "# Plot, using vtk\n",
    "vp.plot_roots(rs, \"type\", 'oblique', True)\n"
   ]
  },
  {
   "cell_type": "code",
   "execution_count": null,
   "metadata": {},
   "outputs": [],
   "source": [
    "import time\n",
    "time.sleep(3)"
   ]
  },
  {
   "cell_type": "code",
   "execution_count": null,
   "metadata": {},
   "outputs": [],
   "source": [
    "# nacvik definice funkce\n",
    "def say_hello(recipient):\n",
    "    return 'Hello, {}!'.format(recipient)\n",
    "\n",
    "say_hello('Stepan')"
   ]
  },
  {
   "cell_type": "code",
   "execution_count": null,
   "metadata": {},
   "outputs": [],
   "source": [
    "import numpy as np\n",
    "def square(x):\n",
    "    return x * x\n",
    "\n",
    "print(square(5))"
   ]
  },
  {
   "cell_type": "code",
   "execution_count": null,
   "metadata": {},
   "outputs": [],
   "source": [
    "x = np.random.randint(1, 10)\n",
    "y = square(x)\n",
    "z = 15\n",
    "print('%d squared is %d a muj test %d' % (x, y, z))"
   ]
  },
  {
   "cell_type": "code",
   "execution_count": null,
   "metadata": {},
   "outputs": [],
   "source": [
    "y = 10\n",
    "print('Is %d squared %d?' % (x, y))"
   ]
  },
  {
   "cell_type": "code",
   "execution_count": null,
   "metadata": {},
   "outputs": [],
   "source": [
    "def greet(name):\n",
    "    \"\"\"\n",
    "    This function greets to\n",
    "    the person passed in as\n",
    "    a parameter\n",
    "    \"\"\"\n",
    "    print(\"Hello, \" + name + \". Good morning!\")\n",
    "\n",
    "greet('Paul')"
   ]
  }
 ],
 "metadata": {
  "kernelspec": {
   "display_name": "Python 3",
   "language": "python",
   "name": "python3"
  },
  "language_info": {
   "codemirror_mode": {
    "name": "ipython",
    "version": 3
   },
   "file_extension": ".py",
   "mimetype": "text/x-python",
   "name": "python",
   "nbconvert_exporter": "python",
   "pygments_lexer": "ipython3",
   "version": "3.7.7"
  }
 },
 "nbformat": 4,
 "nbformat_minor": 4
}
